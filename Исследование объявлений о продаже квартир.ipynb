{
 "cells": [
  {
   "cell_type": "markdown",
   "metadata": {},
   "source": [
    "# Исследование объявлений о продаже квартир\n",
    "\n",
    "В вашем распоряжении данные сервиса Яндекс.Недвижимость — архив объявлений о продаже квартир в Санкт-Петербурге и соседних населённых пунктов за несколько лет. Нужно научиться определять рыночную стоимость объектов недвижимости. Ваша задача — установить параметры. Это позволит построить автоматизированную систему: она отследит аномалии и мошенническую деятельность. \n",
    "\n",
    "По каждой квартире на продажу доступны два вида данных. Первые вписаны пользователем, вторые — получены автоматически на основе картографических данных. Например, расстояние до центра, аэропорта, ближайшего парка и водоёма. "
   ]
  },
  {
   "cell_type": "markdown",
   "metadata": {},
   "source": [
    "<div class=\"alert alert-success\">\n",
    "<h2> Комментарий ревьюера V1<a class=\"tocSkip\"> </h2>\n",
    "\n",
    "<b>Все отлично!👍:</b> Молодец, что начинаешь проект с описания."
   ]
  },
  {
   "cell_type": "markdown",
   "metadata": {},
   "source": [
    "### Откройте файл с данными и изучите общую информацию. "
   ]
  },
  {
   "cell_type": "code",
   "execution_count": 1,
   "metadata": {},
   "outputs": [
    {
     "name": "stdout",
     "output_type": "stream",
     "text": [
      "<class 'pandas.core.frame.DataFrame'>\n",
      "RangeIndex: 23699 entries, 0 to 23698\n",
      "Data columns (total 22 columns):\n",
      " #   Column                Non-Null Count  Dtype  \n",
      "---  ------                --------------  -----  \n",
      " 0   total_images          23699 non-null  int64  \n",
      " 1   last_price            23699 non-null  float64\n",
      " 2   total_area            23699 non-null  float64\n",
      " 3   first_day_exposition  23699 non-null  object \n",
      " 4   rooms                 23699 non-null  int64  \n",
      " 5   ceiling_height        14504 non-null  float64\n",
      " 6   floors_total          23613 non-null  float64\n",
      " 7   living_area           21796 non-null  float64\n",
      " 8   floor                 23699 non-null  int64  \n",
      " 9   is_apartment          2775 non-null   object \n",
      " 10  studio                23699 non-null  bool   \n",
      " 11  open_plan             23699 non-null  bool   \n",
      " 12  kitchen_area          21421 non-null  float64\n",
      " 13  balcony               12180 non-null  float64\n",
      " 14  locality_name         23650 non-null  object \n",
      " 15  airports_nearest      18157 non-null  float64\n",
      " 16  city_centers_nearest  18180 non-null  float64\n",
      " 17  parks_around_3000     18181 non-null  float64\n",
      " 18  parks_nearest         8079 non-null   float64\n",
      " 19  ponds_around_3000     18181 non-null  float64\n",
      " 20  ponds_nearest         9110 non-null   float64\n",
      " 21  days_exposition       20518 non-null  float64\n",
      "dtypes: bool(2), float64(14), int64(3), object(3)\n",
      "memory usage: 3.7+ MB\n"
     ]
    },
    {
     "data": {
      "text/html": [
       "<div>\n",
       "<style scoped>\n",
       "    .dataframe tbody tr th:only-of-type {\n",
       "        vertical-align: middle;\n",
       "    }\n",
       "\n",
       "    .dataframe tbody tr th {\n",
       "        vertical-align: top;\n",
       "    }\n",
       "\n",
       "    .dataframe thead th {\n",
       "        text-align: right;\n",
       "    }\n",
       "</style>\n",
       "<table border=\"1\" class=\"dataframe\">\n",
       "  <thead>\n",
       "    <tr style=\"text-align: right;\">\n",
       "      <th></th>\n",
       "      <th>total_images</th>\n",
       "      <th>last_price</th>\n",
       "      <th>total_area</th>\n",
       "      <th>first_day_exposition</th>\n",
       "      <th>rooms</th>\n",
       "      <th>ceiling_height</th>\n",
       "      <th>floors_total</th>\n",
       "      <th>living_area</th>\n",
       "      <th>floor</th>\n",
       "      <th>is_apartment</th>\n",
       "      <th>...</th>\n",
       "      <th>kitchen_area</th>\n",
       "      <th>balcony</th>\n",
       "      <th>locality_name</th>\n",
       "      <th>airports_nearest</th>\n",
       "      <th>city_centers_nearest</th>\n",
       "      <th>parks_around_3000</th>\n",
       "      <th>parks_nearest</th>\n",
       "      <th>ponds_around_3000</th>\n",
       "      <th>ponds_nearest</th>\n",
       "      <th>days_exposition</th>\n",
       "    </tr>\n",
       "  </thead>\n",
       "  <tbody>\n",
       "    <tr>\n",
       "      <th>0</th>\n",
       "      <td>20</td>\n",
       "      <td>13000000.0</td>\n",
       "      <td>108.0</td>\n",
       "      <td>2019-03-07T00:00:00</td>\n",
       "      <td>3</td>\n",
       "      <td>2.70</td>\n",
       "      <td>16.0</td>\n",
       "      <td>51.0</td>\n",
       "      <td>8</td>\n",
       "      <td>NaN</td>\n",
       "      <td>...</td>\n",
       "      <td>25.0</td>\n",
       "      <td>NaN</td>\n",
       "      <td>Санкт-Петербург</td>\n",
       "      <td>18863.0</td>\n",
       "      <td>16028.0</td>\n",
       "      <td>1.0</td>\n",
       "      <td>482.0</td>\n",
       "      <td>2.0</td>\n",
       "      <td>755.0</td>\n",
       "      <td>NaN</td>\n",
       "    </tr>\n",
       "    <tr>\n",
       "      <th>1</th>\n",
       "      <td>7</td>\n",
       "      <td>3350000.0</td>\n",
       "      <td>40.4</td>\n",
       "      <td>2018-12-04T00:00:00</td>\n",
       "      <td>1</td>\n",
       "      <td>NaN</td>\n",
       "      <td>11.0</td>\n",
       "      <td>18.6</td>\n",
       "      <td>1</td>\n",
       "      <td>NaN</td>\n",
       "      <td>...</td>\n",
       "      <td>11.0</td>\n",
       "      <td>2.0</td>\n",
       "      <td>посёлок Шушары</td>\n",
       "      <td>12817.0</td>\n",
       "      <td>18603.0</td>\n",
       "      <td>0.0</td>\n",
       "      <td>NaN</td>\n",
       "      <td>0.0</td>\n",
       "      <td>NaN</td>\n",
       "      <td>81.0</td>\n",
       "    </tr>\n",
       "    <tr>\n",
       "      <th>2</th>\n",
       "      <td>10</td>\n",
       "      <td>5196000.0</td>\n",
       "      <td>56.0</td>\n",
       "      <td>2015-08-20T00:00:00</td>\n",
       "      <td>2</td>\n",
       "      <td>NaN</td>\n",
       "      <td>5.0</td>\n",
       "      <td>34.3</td>\n",
       "      <td>4</td>\n",
       "      <td>NaN</td>\n",
       "      <td>...</td>\n",
       "      <td>8.3</td>\n",
       "      <td>0.0</td>\n",
       "      <td>Санкт-Петербург</td>\n",
       "      <td>21741.0</td>\n",
       "      <td>13933.0</td>\n",
       "      <td>1.0</td>\n",
       "      <td>90.0</td>\n",
       "      <td>2.0</td>\n",
       "      <td>574.0</td>\n",
       "      <td>558.0</td>\n",
       "    </tr>\n",
       "    <tr>\n",
       "      <th>3</th>\n",
       "      <td>0</td>\n",
       "      <td>64900000.0</td>\n",
       "      <td>159.0</td>\n",
       "      <td>2015-07-24T00:00:00</td>\n",
       "      <td>3</td>\n",
       "      <td>NaN</td>\n",
       "      <td>14.0</td>\n",
       "      <td>NaN</td>\n",
       "      <td>9</td>\n",
       "      <td>NaN</td>\n",
       "      <td>...</td>\n",
       "      <td>NaN</td>\n",
       "      <td>0.0</td>\n",
       "      <td>Санкт-Петербург</td>\n",
       "      <td>28098.0</td>\n",
       "      <td>6800.0</td>\n",
       "      <td>2.0</td>\n",
       "      <td>84.0</td>\n",
       "      <td>3.0</td>\n",
       "      <td>234.0</td>\n",
       "      <td>424.0</td>\n",
       "    </tr>\n",
       "    <tr>\n",
       "      <th>4</th>\n",
       "      <td>2</td>\n",
       "      <td>10000000.0</td>\n",
       "      <td>100.0</td>\n",
       "      <td>2018-06-19T00:00:00</td>\n",
       "      <td>2</td>\n",
       "      <td>3.03</td>\n",
       "      <td>14.0</td>\n",
       "      <td>32.0</td>\n",
       "      <td>13</td>\n",
       "      <td>NaN</td>\n",
       "      <td>...</td>\n",
       "      <td>41.0</td>\n",
       "      <td>NaN</td>\n",
       "      <td>Санкт-Петербург</td>\n",
       "      <td>31856.0</td>\n",
       "      <td>8098.0</td>\n",
       "      <td>2.0</td>\n",
       "      <td>112.0</td>\n",
       "      <td>1.0</td>\n",
       "      <td>48.0</td>\n",
       "      <td>121.0</td>\n",
       "    </tr>\n",
       "  </tbody>\n",
       "</table>\n",
       "<p>5 rows × 22 columns</p>\n",
       "</div>"
      ],
      "text/plain": [
       "   total_images  last_price  total_area first_day_exposition  rooms  \\\n",
       "0            20  13000000.0       108.0  2019-03-07T00:00:00      3   \n",
       "1             7   3350000.0        40.4  2018-12-04T00:00:00      1   \n",
       "2            10   5196000.0        56.0  2015-08-20T00:00:00      2   \n",
       "3             0  64900000.0       159.0  2015-07-24T00:00:00      3   \n",
       "4             2  10000000.0       100.0  2018-06-19T00:00:00      2   \n",
       "\n",
       "   ceiling_height  floors_total  living_area  floor is_apartment  ...  \\\n",
       "0            2.70          16.0         51.0      8          NaN  ...   \n",
       "1             NaN          11.0         18.6      1          NaN  ...   \n",
       "2             NaN           5.0         34.3      4          NaN  ...   \n",
       "3             NaN          14.0          NaN      9          NaN  ...   \n",
       "4            3.03          14.0         32.0     13          NaN  ...   \n",
       "\n",
       "   kitchen_area  balcony    locality_name  airports_nearest  \\\n",
       "0          25.0      NaN  Санкт-Петербург           18863.0   \n",
       "1          11.0      2.0   посёлок Шушары           12817.0   \n",
       "2           8.3      0.0  Санкт-Петербург           21741.0   \n",
       "3           NaN      0.0  Санкт-Петербург           28098.0   \n",
       "4          41.0      NaN  Санкт-Петербург           31856.0   \n",
       "\n",
       "  city_centers_nearest  parks_around_3000  parks_nearest  ponds_around_3000  \\\n",
       "0              16028.0                1.0          482.0                2.0   \n",
       "1              18603.0                0.0            NaN                0.0   \n",
       "2              13933.0                1.0           90.0                2.0   \n",
       "3               6800.0                2.0           84.0                3.0   \n",
       "4               8098.0                2.0          112.0                1.0   \n",
       "\n",
       "   ponds_nearest  days_exposition  \n",
       "0          755.0              NaN  \n",
       "1            NaN             81.0  \n",
       "2          574.0            558.0  \n",
       "3          234.0            424.0  \n",
       "4           48.0            121.0  \n",
       "\n",
       "[5 rows x 22 columns]"
      ]
     },
     "metadata": {},
     "output_type": "display_data"
    },
    {
     "data": {
      "text/plain": [
       "array([[<AxesSubplot:title={'center':'total_images'}>,\n",
       "        <AxesSubplot:title={'center':'last_price'}>,\n",
       "        <AxesSubplot:title={'center':'total_area'}>,\n",
       "        <AxesSubplot:title={'center':'rooms'}>],\n",
       "       [<AxesSubplot:title={'center':'ceiling_height'}>,\n",
       "        <AxesSubplot:title={'center':'floors_total'}>,\n",
       "        <AxesSubplot:title={'center':'living_area'}>,\n",
       "        <AxesSubplot:title={'center':'floor'}>],\n",
       "       [<AxesSubplot:title={'center':'kitchen_area'}>,\n",
       "        <AxesSubplot:title={'center':'balcony'}>,\n",
       "        <AxesSubplot:title={'center':'airports_nearest'}>,\n",
       "        <AxesSubplot:title={'center':'city_centers_nearest'}>],\n",
       "       [<AxesSubplot:title={'center':'parks_around_3000'}>,\n",
       "        <AxesSubplot:title={'center':'parks_nearest'}>,\n",
       "        <AxesSubplot:title={'center':'ponds_around_3000'}>,\n",
       "        <AxesSubplot:title={'center':'ponds_nearest'}>],\n",
       "       [<AxesSubplot:title={'center':'days_exposition'}>, <AxesSubplot:>,\n",
       "        <AxesSubplot:>, <AxesSubplot:>]], dtype=object)"
      ]
     },
     "execution_count": 1,
     "metadata": {},
     "output_type": "execute_result"
    },
    {
     "data": {
      "image/png": "[encoded data removed]",
      "text/plain": [
       "<Figure size 1080x1440 with 20 Axes>"
      ]
     },
     "metadata": {
      "needs_background": "light"
     },
     "output_type": "display_data"
    }
   ],
   "source": [
    "import pandas as pd\n",
    "import matplotlib.pyplot\n",
    "data = pd.read_csv('/datasets/real_estate_data.csv', sep = '\\t')\n",
    "data.rename(columns={'cityCenters_nearest' : 'city_centers_nearest', 'parks_around3000' : 'parks_around_3000', 'ponds_around3000' : 'ponds_around_3000'}, inplace=True)\n",
    "data.info()\n",
    "display(data.head())\n",
    "data.hist(figsize=(15, 20))\n"
   ]
  },
  {
   "cell_type": "markdown",
   "metadata": {},
   "source": [
    "### Предобработка данных"
   ]
  },
  {
   "cell_type": "code",
   "execution_count": 2,
   "metadata": {
    "scrolled": true
   },
   "outputs": [
    {
     "data": {
      "text/html": [
       "<div>\n",
       "<style scoped>\n",
       "    .dataframe tbody tr th:only-of-type {\n",
       "        vertical-align: middle;\n",
       "    }\n",
       "\n",
       "    .dataframe tbody tr th {\n",
       "        vertical-align: top;\n",
       "    }\n",
       "\n",
       "    .dataframe thead th {\n",
       "        text-align: right;\n",
       "    }\n",
       "</style>\n",
       "<table border=\"1\" class=\"dataframe\">\n",
       "  <thead>\n",
       "    <tr style=\"text-align: right;\">\n",
       "      <th></th>\n",
       "      <th>total_images</th>\n",
       "      <th>last_price</th>\n",
       "      <th>total_area</th>\n",
       "      <th>first_day_exposition</th>\n",
       "      <th>rooms</th>\n",
       "      <th>ceiling_height</th>\n",
       "      <th>floors_total</th>\n",
       "      <th>living_area</th>\n",
       "      <th>floor</th>\n",
       "      <th>is_apartment</th>\n",
       "      <th>...</th>\n",
       "      <th>kitchen_area</th>\n",
       "      <th>balcony</th>\n",
       "      <th>locality_name</th>\n",
       "      <th>airports_nearest</th>\n",
       "      <th>city_centers_nearest</th>\n",
       "      <th>parks_around_3000</th>\n",
       "      <th>parks_nearest</th>\n",
       "      <th>ponds_around_3000</th>\n",
       "      <th>ponds_nearest</th>\n",
       "      <th>days_exposition</th>\n",
       "    </tr>\n",
       "  </thead>\n",
       "  <tbody>\n",
       "    <tr>\n",
       "      <th>0</th>\n",
       "      <td>20</td>\n",
       "      <td>13000000.0</td>\n",
       "      <td>108.00</td>\n",
       "      <td>2019-03-07</td>\n",
       "      <td>3</td>\n",
       "      <td>2.700000</td>\n",
       "      <td>16.0</td>\n",
       "      <td>51.000000</td>\n",
       "      <td>8</td>\n",
       "      <td>False</td>\n",
       "      <td>...</td>\n",
       "      <td>25.000000</td>\n",
       "      <td>0</td>\n",
       "      <td>Санкт-Петербург</td>\n",
       "      <td>18863.0</td>\n",
       "      <td>16028.0</td>\n",
       "      <td>1.0</td>\n",
       "      <td>482.0</td>\n",
       "      <td>2.0</td>\n",
       "      <td>755.0</td>\n",
       "      <td>NaN</td>\n",
       "    </tr>\n",
       "    <tr>\n",
       "      <th>1</th>\n",
       "      <td>7</td>\n",
       "      <td>3350000.0</td>\n",
       "      <td>40.40</td>\n",
       "      <td>2018-12-04</td>\n",
       "      <td>1</td>\n",
       "      <td>2.771499</td>\n",
       "      <td>11.0</td>\n",
       "      <td>18.600000</td>\n",
       "      <td>1</td>\n",
       "      <td>False</td>\n",
       "      <td>...</td>\n",
       "      <td>11.000000</td>\n",
       "      <td>2</td>\n",
       "      <td>посёлок Шушары</td>\n",
       "      <td>12817.0</td>\n",
       "      <td>18603.0</td>\n",
       "      <td>0.0</td>\n",
       "      <td>NaN</td>\n",
       "      <td>0.0</td>\n",
       "      <td>NaN</td>\n",
       "      <td>81.0</td>\n",
       "    </tr>\n",
       "    <tr>\n",
       "      <th>2</th>\n",
       "      <td>10</td>\n",
       "      <td>5196000.0</td>\n",
       "      <td>56.00</td>\n",
       "      <td>2015-08-20</td>\n",
       "      <td>2</td>\n",
       "      <td>2.771499</td>\n",
       "      <td>5.0</td>\n",
       "      <td>34.300000</td>\n",
       "      <td>4</td>\n",
       "      <td>False</td>\n",
       "      <td>...</td>\n",
       "      <td>8.300000</td>\n",
       "      <td>0</td>\n",
       "      <td>Санкт-Петербург</td>\n",
       "      <td>21741.0</td>\n",
       "      <td>13933.0</td>\n",
       "      <td>1.0</td>\n",
       "      <td>90.0</td>\n",
       "      <td>2.0</td>\n",
       "      <td>574.0</td>\n",
       "      <td>558.0</td>\n",
       "    </tr>\n",
       "    <tr>\n",
       "      <th>3</th>\n",
       "      <td>0</td>\n",
       "      <td>64900000.0</td>\n",
       "      <td>159.00</td>\n",
       "      <td>2015-07-24</td>\n",
       "      <td>3</td>\n",
       "      <td>2.771499</td>\n",
       "      <td>14.0</td>\n",
       "      <td>89.797718</td>\n",
       "      <td>9</td>\n",
       "      <td>False</td>\n",
       "      <td>...</td>\n",
       "      <td>29.789403</td>\n",
       "      <td>0</td>\n",
       "      <td>Санкт-Петербург</td>\n",
       "      <td>28098.0</td>\n",
       "      <td>6800.0</td>\n",
       "      <td>2.0</td>\n",
       "      <td>84.0</td>\n",
       "      <td>3.0</td>\n",
       "      <td>234.0</td>\n",
       "      <td>424.0</td>\n",
       "    </tr>\n",
       "    <tr>\n",
       "      <th>4</th>\n",
       "      <td>2</td>\n",
       "      <td>10000000.0</td>\n",
       "      <td>100.00</td>\n",
       "      <td>2018-06-19</td>\n",
       "      <td>2</td>\n",
       "      <td>3.030000</td>\n",
       "      <td>14.0</td>\n",
       "      <td>32.000000</td>\n",
       "      <td>13</td>\n",
       "      <td>False</td>\n",
       "      <td>...</td>\n",
       "      <td>41.000000</td>\n",
       "      <td>0</td>\n",
       "      <td>Санкт-Петербург</td>\n",
       "      <td>31856.0</td>\n",
       "      <td>8098.0</td>\n",
       "      <td>2.0</td>\n",
       "      <td>112.0</td>\n",
       "      <td>1.0</td>\n",
       "      <td>48.0</td>\n",
       "      <td>121.0</td>\n",
       "    </tr>\n",
       "    <tr>\n",
       "      <th>...</th>\n",
       "      <td>...</td>\n",
       "      <td>...</td>\n",
       "      <td>...</td>\n",
       "      <td>...</td>\n",
       "      <td>...</td>\n",
       "      <td>...</td>\n",
       "      <td>...</td>\n",
       "      <td>...</td>\n",
       "      <td>...</td>\n",
       "      <td>...</td>\n",
       "      <td>...</td>\n",
       "      <td>...</td>\n",
       "      <td>...</td>\n",
       "      <td>...</td>\n",
       "      <td>...</td>\n",
       "      <td>...</td>\n",
       "      <td>...</td>\n",
       "      <td>...</td>\n",
       "      <td>...</td>\n",
       "      <td>...</td>\n",
       "      <td>...</td>\n",
       "    </tr>\n",
       "    <tr>\n",
       "      <th>23694</th>\n",
       "      <td>9</td>\n",
       "      <td>9700000.0</td>\n",
       "      <td>133.81</td>\n",
       "      <td>2017-03-21</td>\n",
       "      <td>3</td>\n",
       "      <td>3.700000</td>\n",
       "      <td>5.0</td>\n",
       "      <td>73.300000</td>\n",
       "      <td>3</td>\n",
       "      <td>False</td>\n",
       "      <td>...</td>\n",
       "      <td>13.830000</td>\n",
       "      <td>0</td>\n",
       "      <td>Санкт-Петербург</td>\n",
       "      <td>24665.0</td>\n",
       "      <td>4232.0</td>\n",
       "      <td>1.0</td>\n",
       "      <td>796.0</td>\n",
       "      <td>3.0</td>\n",
       "      <td>381.0</td>\n",
       "      <td>NaN</td>\n",
       "    </tr>\n",
       "    <tr>\n",
       "      <th>23695</th>\n",
       "      <td>14</td>\n",
       "      <td>3100000.0</td>\n",
       "      <td>59.00</td>\n",
       "      <td>2018-01-15</td>\n",
       "      <td>3</td>\n",
       "      <td>2.771499</td>\n",
       "      <td>5.0</td>\n",
       "      <td>38.000000</td>\n",
       "      <td>4</td>\n",
       "      <td>False</td>\n",
       "      <td>...</td>\n",
       "      <td>8.500000</td>\n",
       "      <td>0</td>\n",
       "      <td>Тосно</td>\n",
       "      <td>NaN</td>\n",
       "      <td>NaN</td>\n",
       "      <td>NaN</td>\n",
       "      <td>NaN</td>\n",
       "      <td>NaN</td>\n",
       "      <td>NaN</td>\n",
       "      <td>45.0</td>\n",
       "    </tr>\n",
       "    <tr>\n",
       "      <th>23696</th>\n",
       "      <td>18</td>\n",
       "      <td>2500000.0</td>\n",
       "      <td>56.70</td>\n",
       "      <td>2018-02-11</td>\n",
       "      <td>2</td>\n",
       "      <td>2.771499</td>\n",
       "      <td>3.0</td>\n",
       "      <td>29.700000</td>\n",
       "      <td>1</td>\n",
       "      <td>False</td>\n",
       "      <td>...</td>\n",
       "      <td>10.623014</td>\n",
       "      <td>0</td>\n",
       "      <td>село Рождествено</td>\n",
       "      <td>NaN</td>\n",
       "      <td>NaN</td>\n",
       "      <td>NaN</td>\n",
       "      <td>NaN</td>\n",
       "      <td>NaN</td>\n",
       "      <td>NaN</td>\n",
       "      <td>NaN</td>\n",
       "    </tr>\n",
       "    <tr>\n",
       "      <th>23697</th>\n",
       "      <td>13</td>\n",
       "      <td>11475000.0</td>\n",
       "      <td>76.75</td>\n",
       "      <td>2017-03-28</td>\n",
       "      <td>2</td>\n",
       "      <td>3.000000</td>\n",
       "      <td>17.0</td>\n",
       "      <td>43.345754</td>\n",
       "      <td>12</td>\n",
       "      <td>False</td>\n",
       "      <td>...</td>\n",
       "      <td>23.300000</td>\n",
       "      <td>2</td>\n",
       "      <td>Санкт-Петербург</td>\n",
       "      <td>39140.0</td>\n",
       "      <td>10364.0</td>\n",
       "      <td>2.0</td>\n",
       "      <td>173.0</td>\n",
       "      <td>3.0</td>\n",
       "      <td>196.0</td>\n",
       "      <td>602.0</td>\n",
       "    </tr>\n",
       "    <tr>\n",
       "      <th>23698</th>\n",
       "      <td>4</td>\n",
       "      <td>1350000.0</td>\n",
       "      <td>32.30</td>\n",
       "      <td>2017-07-21</td>\n",
       "      <td>1</td>\n",
       "      <td>2.500000</td>\n",
       "      <td>5.0</td>\n",
       "      <td>12.300000</td>\n",
       "      <td>1</td>\n",
       "      <td>False</td>\n",
       "      <td>...</td>\n",
       "      <td>9.000000</td>\n",
       "      <td>0</td>\n",
       "      <td>поселок Новый Учхоз</td>\n",
       "      <td>NaN</td>\n",
       "      <td>NaN</td>\n",
       "      <td>NaN</td>\n",
       "      <td>NaN</td>\n",
       "      <td>NaN</td>\n",
       "      <td>NaN</td>\n",
       "      <td>NaN</td>\n",
       "    </tr>\n",
       "  </tbody>\n",
       "</table>\n",
       "<p>23699 rows × 22 columns</p>\n",
       "</div>"
      ],
      "text/plain": [
       "       total_images  last_price  total_area first_day_exposition  rooms  \\\n",
       "0                20  13000000.0      108.00           2019-03-07      3   \n",
       "1                 7   3350000.0       40.40           2018-12-04      1   \n",
       "2                10   5196000.0       56.00           2015-08-20      2   \n",
       "3                 0  64900000.0      159.00           2015-07-24      3   \n",
       "4                 2  10000000.0      100.00           2018-06-19      2   \n",
       "...             ...         ...         ...                  ...    ...   \n",
       "23694             9   9700000.0      133.81           2017-03-21      3   \n",
       "23695            14   3100000.0       59.00           2018-01-15      3   \n",
       "23696            18   2500000.0       56.70           2018-02-11      2   \n",
       "23697            13  11475000.0       76.75           2017-03-28      2   \n",
       "23698             4   1350000.0       32.30           2017-07-21      1   \n",
       "\n",
       "       ceiling_height  floors_total  living_area  floor  is_apartment  ...  \\\n",
       "0            2.700000          16.0    51.000000      8         False  ...   \n",
       "1            2.771499          11.0    18.600000      1         False  ...   \n",
       "2            2.771499           5.0    34.300000      4         False  ...   \n",
       "3            2.771499          14.0    89.797718      9         False  ...   \n",
       "4            3.030000          14.0    32.000000     13         False  ...   \n",
       "...               ...           ...          ...    ...           ...  ...   \n",
       "23694        3.700000           5.0    73.300000      3         False  ...   \n",
       "23695        2.771499           5.0    38.000000      4         False  ...   \n",
       "23696        2.771499           3.0    29.700000      1         False  ...   \n",
       "23697        3.000000          17.0    43.345754     12         False  ...   \n",
       "23698        2.500000           5.0    12.300000      1         False  ...   \n",
       "\n",
       "       kitchen_area  balcony        locality_name  airports_nearest  \\\n",
       "0         25.000000        0      Санкт-Петербург           18863.0   \n",
       "1         11.000000        2       посёлок Шушары           12817.0   \n",
       "2          8.300000        0      Санкт-Петербург           21741.0   \n",
       "3         29.789403        0      Санкт-Петербург           28098.0   \n",
       "4         41.000000        0      Санкт-Петербург           31856.0   \n",
       "...             ...      ...                  ...               ...   \n",
       "23694     13.830000        0      Санкт-Петербург           24665.0   \n",
       "23695      8.500000        0                Тосно               NaN   \n",
       "23696     10.623014        0     село Рождествено               NaN   \n",
       "23697     23.300000        2      Санкт-Петербург           39140.0   \n",
       "23698      9.000000        0  поселок Новый Учхоз               NaN   \n",
       "\n",
       "      city_centers_nearest  parks_around_3000  parks_nearest  \\\n",
       "0                  16028.0                1.0          482.0   \n",
       "1                  18603.0                0.0            NaN   \n",
       "2                  13933.0                1.0           90.0   \n",
       "3                   6800.0                2.0           84.0   \n",
       "4                   8098.0                2.0          112.0   \n",
       "...                    ...                ...            ...   \n",
       "23694               4232.0                1.0          796.0   \n",
       "23695                  NaN                NaN            NaN   \n",
       "23696                  NaN                NaN            NaN   \n",
       "23697              10364.0                2.0          173.0   \n",
       "23698                  NaN                NaN            NaN   \n",
       "\n",
       "       ponds_around_3000  ponds_nearest  days_exposition  \n",
       "0                    2.0          755.0              NaN  \n",
       "1                    0.0            NaN             81.0  \n",
       "2                    2.0          574.0            558.0  \n",
       "3                    3.0          234.0            424.0  \n",
       "4                    1.0           48.0            121.0  \n",
       "...                  ...            ...              ...  \n",
       "23694                3.0          381.0              NaN  \n",
       "23695                NaN            NaN             45.0  \n",
       "23696                NaN            NaN              NaN  \n",
       "23697                3.0          196.0            602.0  \n",
       "23698                NaN            NaN              NaN  \n",
       "\n",
       "[23699 rows x 22 columns]"
      ]
     },
     "metadata": {},
     "output_type": "display_data"
    },
    {
     "name": "stdout",
     "output_type": "stream",
     "text": [
      "total_images                0\n",
      "last_price                  0\n",
      "total_area                  0\n",
      "first_day_exposition        0\n",
      "rooms                       0\n",
      "ceiling_height              0\n",
      "floors_total               86\n",
      "living_area                 0\n",
      "floor                       0\n",
      "is_apartment                0\n",
      "studio                      0\n",
      "open_plan                   0\n",
      "kitchen_area                0\n",
      "balcony                     0\n",
      "locality_name              49\n",
      "airports_nearest         5542\n",
      "city_centers_nearest     5519\n",
      "parks_around_3000        5518\n",
      "parks_nearest           15620\n",
      "ponds_around_3000        5518\n",
      "ponds_nearest           14589\n",
      "days_exposition          3181\n",
      "dtype: int64\n"
     ]
    }
   ],
   "source": [
    "data['balcony'] = data['balcony'].fillna(0).astype('int')\n",
    "# Высота потолков не сильно отличается, так что заменим пропуски на среднее значение\n",
    "data['ceiling_height'] = data['ceiling_height'].fillna(data['ceiling_height'].mean())\n",
    "# В столбце с датой публикации оставим только дату, т.к. время не указано\n",
    "data['first_day_exposition'] = pd.to_datetime(data['first_day_exposition'], format = '%Y-%m-%d')\n",
    "# В столбце is_apartment можем посчитать, что пропуски означают, что это не апартаменты и присвоить False\n",
    "data['is_apartment'] = data['is_apartment'].fillna(False)\n",
    "# Пропуски в столбце living_area заменим на среднее отношение жилплощади к общей площади\n",
    "living_area_mean = (data['living_area']/data['total_area']).mean()\n",
    "data['living_area'] = data['living_area'].fillna(value=(living_area_mean * data['total_area']))\n",
    "# Пропуски значений площади кухни тоже заменим на среднее отношение площади кухонь к общей площади\n",
    "kitchen_area_mean = ((data['kitchen_area'] / data['total_area']).mean())\n",
    "data['kitchen_area'] = data['kitchen_area'].fillna(value= (kitchen_area_mean * data['total_area']))\n",
    "display(data)\n",
    "print(data.isnull().sum())"
   ]
  },
  {
   "cell_type": "markdown",
   "metadata": {},
   "source": [
    " Пропуски в столбце \"balcony\" заменим на 0, т.к. в таком случае балкона там может не оказаться. В столбце названий населенного пункта также оставим пропуски, т.к. значения могли просто не заполнить. Наличие пропусков в столбцах, содержащих информацию о парках и прудах в радиусе 3 км, может быть обусловлено тем, что таковых там не имеется. Пропуски в значениях количества этажей могли возникнуть из-за того, что значения просто не указали.\n",
    " Тип данных изменили в столбцах balcony и days_exposition, а в столбце first_day_exposition оставили только дату, т.к. время не указано."
   ]
  },
  {
   "cell_type": "code",
   "execution_count": 3,
   "metadata": {},
   "outputs": [
    {
     "name": "stdout",
     "output_type": "stream",
     "text": [
      "0\n"
     ]
    }
   ],
   "source": [
    "# В столбце с названиями населеных пунктов обнаружилось большое количество дубликатов. Чтобы их убрать, для начала переведем всё в нижний регистр,заменим \"ё\" на \"е\" и проведем некоторые операции с формулировками названий\n",
    "data['locality_name'] = data['locality_name'].str.lower()\n",
    "data['locality_name'] = data['locality_name'].str.replace('ё', 'е')\n",
    "data['locality_name'] = data['locality_name'].str.replace('городской поселок','поселок городского типа')\n",
    "print(data.duplicated().sum())"
   ]
  },
  {
   "cell_type": "code",
   "execution_count": 4,
   "metadata": {},
   "outputs": [
    {
     "name": "stdout",
     "output_type": "stream",
     "text": [
      "[ 2.7        2.7714989  3.03       2.5        2.67       2.56\n",
      "  3.05       2.75       2.6        2.9        2.8        2.55\n",
      "  3.         2.65       3.2        2.61       3.25       3.45\n",
      "  2.77       2.85       2.64       2.57       4.15       3.5\n",
      "  3.3        2.71       4.         2.47       2.73       2.84\n",
      "  3.1        2.34       3.4        3.06       2.72       2.54\n",
      "  2.51       2.78       2.76       0.         2.58       3.7\n",
      "  2.52       5.2        2.87       2.66       2.59       2.\n",
      "  2.45       3.6        2.92       3.11       3.13       3.8\n",
      "  3.15       3.55       3.16       3.62       3.12       2.53\n",
      "  2.74       2.96       2.46       5.3        5.         2.79\n",
      "  2.95       4.06       2.94       3.82       3.54       3.53\n",
      "  2.83       4.7        2.4        3.38       3.01       5.6\n",
      "  3.65       3.9        3.18       3.35       2.3        3.57\n",
      "  2.48       2.62       2.82       3.98       2.63       3.83\n",
      "  3.52       3.95       3.75       2.88       3.67       3.87\n",
      "  3.66       3.85       3.86       4.19       3.24       4.8\n",
      "  4.5        4.2        3.36       3.08       3.68       3.07\n",
      "  3.37       3.09       8.         3.26       3.34       2.81\n",
      "  3.44       2.97       3.14       4.37       2.68       3.22\n",
      "  3.27       4.1        2.93       3.46       3.47       3.33\n",
      "  3.63       3.32       8.3        2.98       2.86       3.17\n",
      "  4.4        3.28       3.04       4.45       5.5        3.84\n",
      "  3.23       3.02       3.21       3.43       3.78       4.3\n",
      "  3.39       2.69       3.31       4.65       3.56       2.2\n",
      "  3.51       3.93       3.42       2.99       3.49      14.\n",
      "  4.14       2.91       3.88       4.25       3.29       2.25\n",
      "  3.76       3.69       6.         2.89       3.58       5.8\n",
      "  2.49       4.9        3.48      10.3        3.59     ]\n"
     ]
    }
   ],
   "source": [
    "\n",
    "data.loc[data['ceiling_height']>=20, 'ceiling_height'] = (data['ceiling_height']>=20)/10\n",
    "data.loc[data['ceiling_height']<2, 'ceiling_height'] = (data['ceiling_height']>=20).mean()\n",
    "print(data['ceiling_height'].unique())\n",
    "# Сначала методом unique определил выбивающиеся значения, затем слишком большие разделил на 10, а слишком маленькие заменил средним значением."
   ]
  },
  {
   "cell_type": "code",
   "execution_count": 5,
   "metadata": {},
   "outputs": [
    {
     "name": "stdout",
     "output_type": "stream",
     "text": [
      "245\n",
      "131\n",
      "37\n"
     ]
    }
   ],
   "source": [
    "print((data['last_price']<=1000000).sum())\n",
    "print((data['last_price']>50000000).sum())\n",
    "print((data['last_price']>=100000000).sum())\n",
    "# Всего 37 квартир стоимостью выше 100 миллионов. В таком случае это может быть и реальная стоимость. По сравнению с общим числом объявлений, это число невелико, так что оставим как есть.\n"
   ]
  },
  {
   "cell_type": "markdown",
   "metadata": {},
   "source": [
    "### Посчитайте и добавьте в таблицу новые столбцы"
   ]
  },
  {
   "cell_type": "code",
   "execution_count": 6,
   "metadata": {},
   "outputs": [
    {
     "data": {
      "text/html": [
       "<div>\n",
       "<style scoped>\n",
       "    .dataframe tbody tr th:only-of-type {\n",
       "        vertical-align: middle;\n",
       "    }\n",
       "\n",
       "    .dataframe tbody tr th {\n",
       "        vertical-align: top;\n",
       "    }\n",
       "\n",
       "    .dataframe thead th {\n",
       "        text-align: right;\n",
       "    }\n",
       "</style>\n",
       "<table border=\"1\" class=\"dataframe\">\n",
       "  <thead>\n",
       "    <tr style=\"text-align: right;\">\n",
       "      <th></th>\n",
       "      <th>total_images</th>\n",
       "      <th>last_price</th>\n",
       "      <th>total_area</th>\n",
       "      <th>first_day_exposition</th>\n",
       "      <th>rooms</th>\n",
       "      <th>ceiling_height</th>\n",
       "      <th>floors_total</th>\n",
       "      <th>living_area</th>\n",
       "      <th>floor</th>\n",
       "      <th>is_apartment</th>\n",
       "      <th>...</th>\n",
       "      <th>parks_nearest</th>\n",
       "      <th>ponds_around_3000</th>\n",
       "      <th>ponds_nearest</th>\n",
       "      <th>days_exposition</th>\n",
       "      <th>price_of_meter</th>\n",
       "      <th>publication_day</th>\n",
       "      <th>publication_month</th>\n",
       "      <th>publication_year</th>\n",
       "      <th>type_of_floor</th>\n",
       "      <th>city_centers_nearest_km</th>\n",
       "    </tr>\n",
       "  </thead>\n",
       "  <tbody>\n",
       "    <tr>\n",
       "      <th>0</th>\n",
       "      <td>20</td>\n",
       "      <td>13000000.0</td>\n",
       "      <td>108.0</td>\n",
       "      <td>2019-03-07</td>\n",
       "      <td>3</td>\n",
       "      <td>2.700000</td>\n",
       "      <td>16.0</td>\n",
       "      <td>51.000000</td>\n",
       "      <td>8</td>\n",
       "      <td>False</td>\n",
       "      <td>...</td>\n",
       "      <td>482.0</td>\n",
       "      <td>2.0</td>\n",
       "      <td>755.0</td>\n",
       "      <td>NaN</td>\n",
       "      <td>120370.370370</td>\n",
       "      <td>3</td>\n",
       "      <td>3</td>\n",
       "      <td>2019</td>\n",
       "      <td>другой</td>\n",
       "      <td>16.0</td>\n",
       "    </tr>\n",
       "    <tr>\n",
       "      <th>1</th>\n",
       "      <td>7</td>\n",
       "      <td>3350000.0</td>\n",
       "      <td>40.4</td>\n",
       "      <td>2018-12-04</td>\n",
       "      <td>1</td>\n",
       "      <td>2.771499</td>\n",
       "      <td>11.0</td>\n",
       "      <td>18.600000</td>\n",
       "      <td>1</td>\n",
       "      <td>False</td>\n",
       "      <td>...</td>\n",
       "      <td>NaN</td>\n",
       "      <td>0.0</td>\n",
       "      <td>NaN</td>\n",
       "      <td>81.0</td>\n",
       "      <td>83750.000000</td>\n",
       "      <td>1</td>\n",
       "      <td>12</td>\n",
       "      <td>2018</td>\n",
       "      <td>первый</td>\n",
       "      <td>19.0</td>\n",
       "    </tr>\n",
       "    <tr>\n",
       "      <th>2</th>\n",
       "      <td>10</td>\n",
       "      <td>5196000.0</td>\n",
       "      <td>56.0</td>\n",
       "      <td>2015-08-20</td>\n",
       "      <td>2</td>\n",
       "      <td>2.771499</td>\n",
       "      <td>5.0</td>\n",
       "      <td>34.300000</td>\n",
       "      <td>4</td>\n",
       "      <td>False</td>\n",
       "      <td>...</td>\n",
       "      <td>90.0</td>\n",
       "      <td>2.0</td>\n",
       "      <td>574.0</td>\n",
       "      <td>558.0</td>\n",
       "      <td>92785.714286</td>\n",
       "      <td>3</td>\n",
       "      <td>8</td>\n",
       "      <td>2015</td>\n",
       "      <td>другой</td>\n",
       "      <td>14.0</td>\n",
       "    </tr>\n",
       "    <tr>\n",
       "      <th>3</th>\n",
       "      <td>0</td>\n",
       "      <td>64900000.0</td>\n",
       "      <td>159.0</td>\n",
       "      <td>2015-07-24</td>\n",
       "      <td>3</td>\n",
       "      <td>2.771499</td>\n",
       "      <td>14.0</td>\n",
       "      <td>89.797718</td>\n",
       "      <td>9</td>\n",
       "      <td>False</td>\n",
       "      <td>...</td>\n",
       "      <td>84.0</td>\n",
       "      <td>3.0</td>\n",
       "      <td>234.0</td>\n",
       "      <td>424.0</td>\n",
       "      <td>408176.100629</td>\n",
       "      <td>4</td>\n",
       "      <td>7</td>\n",
       "      <td>2015</td>\n",
       "      <td>другой</td>\n",
       "      <td>7.0</td>\n",
       "    </tr>\n",
       "    <tr>\n",
       "      <th>4</th>\n",
       "      <td>2</td>\n",
       "      <td>10000000.0</td>\n",
       "      <td>100.0</td>\n",
       "      <td>2018-06-19</td>\n",
       "      <td>2</td>\n",
       "      <td>3.030000</td>\n",
       "      <td>14.0</td>\n",
       "      <td>32.000000</td>\n",
       "      <td>13</td>\n",
       "      <td>False</td>\n",
       "      <td>...</td>\n",
       "      <td>112.0</td>\n",
       "      <td>1.0</td>\n",
       "      <td>48.0</td>\n",
       "      <td>121.0</td>\n",
       "      <td>100000.000000</td>\n",
       "      <td>1</td>\n",
       "      <td>6</td>\n",
       "      <td>2018</td>\n",
       "      <td>другой</td>\n",
       "      <td>8.0</td>\n",
       "    </tr>\n",
       "  </tbody>\n",
       "</table>\n",
       "<p>5 rows × 28 columns</p>\n",
       "</div>"
      ],
      "text/plain": [
       "   total_images  last_price  total_area first_day_exposition  rooms  \\\n",
       "0            20  13000000.0       108.0           2019-03-07      3   \n",
       "1             7   3350000.0        40.4           2018-12-04      1   \n",
       "2            10   5196000.0        56.0           2015-08-20      2   \n",
       "3             0  64900000.0       159.0           2015-07-24      3   \n",
       "4             2  10000000.0       100.0           2018-06-19      2   \n",
       "\n",
       "   ceiling_height  floors_total  living_area  floor  is_apartment  ...  \\\n",
       "0        2.700000          16.0    51.000000      8         False  ...   \n",
       "1        2.771499          11.0    18.600000      1         False  ...   \n",
       "2        2.771499           5.0    34.300000      4         False  ...   \n",
       "3        2.771499          14.0    89.797718      9         False  ...   \n",
       "4        3.030000          14.0    32.000000     13         False  ...   \n",
       "\n",
       "   parks_nearest  ponds_around_3000  ponds_nearest  days_exposition  \\\n",
       "0          482.0                2.0          755.0              NaN   \n",
       "1            NaN                0.0            NaN             81.0   \n",
       "2           90.0                2.0          574.0            558.0   \n",
       "3           84.0                3.0          234.0            424.0   \n",
       "4          112.0                1.0           48.0            121.0   \n",
       "\n",
       "  price_of_meter  publication_day  publication_month  publication_year  \\\n",
       "0  120370.370370                3                  3              2019   \n",
       "1   83750.000000                1                 12              2018   \n",
       "2   92785.714286                3                  8              2015   \n",
       "3  408176.100629                4                  7              2015   \n",
       "4  100000.000000                1                  6              2018   \n",
       "\n",
       "   type_of_floor  city_centers_nearest_km  \n",
       "0         другой                     16.0  \n",
       "1         первый                     19.0  \n",
       "2         другой                     14.0  \n",
       "3         другой                      7.0  \n",
       "4         другой                      8.0  \n",
       "\n",
       "[5 rows x 28 columns]"
      ]
     },
     "metadata": {},
     "output_type": "display_data"
    }
   ],
   "source": [
    "# Для расчета стоимости одного квадратного метра поделим цену квартиры на общую площадь\n",
    "data['price_of_meter'] = data['last_price']/data['total_area'].round()\n",
    "# Добавим столбцы с днём недели, названием месяца и годом публикации объявления\n",
    "import datetime\n",
    "data['publication_day'] = data['first_day_exposition'].dt.dayofweek\n",
    "data['publication_month'] =  data['first_day_exposition'].dt.month\n",
    "data['publication_year'] = data['first_day_exposition'].dt.year\n",
    "# Добавим обозначения этажа квартиры: первый, последний, другой\n",
    "def floor(row):\n",
    "    if row['floor'] == 1:\n",
    "        return 'первый'\n",
    "    if row['floor'] == row['floors_total']:\n",
    "        return 'последний'\n",
    "    else:\n",
    "        return 'другой'\n",
    "data['type_of_floor'] = data.apply(floor, axis = 1)\n",
    "# Добавим столбец с расстоянием до центра города в км\n",
    "data['city_centers_nearest_km'] = (data['city_centers_nearest']/1000).round()\n",
    "display(data.head())\n"
   ]
  },
  {
   "cell_type": "markdown",
   "metadata": {},
   "source": [
    "### Проведите исследовательский анализ данных"
   ]
  },
  {
   "cell_type": "code",
   "execution_count": 7,
   "metadata": {
    "scrolled": true
   },
   "outputs": [
    {
     "data": {
      "text/plain": [
       "array([[<AxesSubplot:title={'center':'total_area'}>]], dtype=object)"
      ]
     },
     "execution_count": 7,
     "metadata": {},
     "output_type": "execute_result"
    },
    {
     "data": {
      "image/png": "[encoded data removed]",
      "text/plain": [
       "<Figure size 720x288 with 1 Axes>"
      ]
     },
     "metadata": {
      "needs_background": "light"
     },
     "output_type": "display_data"
    }
   ],
   "source": [
    "data.hist(column = 'total_area', bins = 30, range = (0, 200), figsize=(10,4))\n"
   ]
  },
  {
   "cell_type": "markdown",
   "metadata": {},
   "source": [
    "Здесь видно, что больше всего квартир с площадью в районе 30 - 40 м.кв."
   ]
  },
  {
   "cell_type": "code",
   "execution_count": 8,
   "metadata": {},
   "outputs": [
    {
     "data": {
      "text/plain": [
       "array([[<AxesSubplot:title={'center':'living_area'}>]], dtype=object)"
      ]
     },
     "execution_count": 8,
     "metadata": {},
     "output_type": "execute_result"
    },
    {
     "data": {
      "image/png": "[encoded data removed]",
      "text/plain": [
       "<Figure size 720x288 with 1 Axes>"
      ]
     },
     "metadata": {
      "needs_background": "light"
     },
     "output_type": "display_data"
    }
   ],
   "source": [
    "data.hist(column = 'living_area', bins = 20, range = (0, 150), figsize=(10,4)) "
   ]
  },
  {
   "cell_type": "markdown",
   "metadata": {},
   "source": [
    "Больше всего распространены квартиры с жилой площадью примерно 20 м.кв."
   ]
  },
  {
   "cell_type": "code",
   "execution_count": 9,
   "metadata": {},
   "outputs": [
    {
     "data": {
      "text/plain": [
       "array([[<AxesSubplot:title={'center':'kitchen_area'}>]], dtype=object)"
      ]
     },
     "execution_count": 9,
     "metadata": {},
     "output_type": "execute_result"
    },
    {
     "data": {
      "image/png": "[encoded data removed]",
      "text/plain": [
       "<Figure size 720x288 with 1 Axes>"
      ]
     },
     "metadata": {
      "needs_background": "light"
     },
     "output_type": "display_data"
    }
   ],
   "source": [
    "data.hist(column = 'kitchen_area', bins = 30, range = (0, 50), figsize=(10,4))"
   ]
  },
  {
   "cell_type": "markdown",
   "metadata": {},
   "source": [
    "Преобладают квартиры с кухней 5 - 10 м.кв."
   ]
  },
  {
   "cell_type": "code",
   "execution_count": 10,
   "metadata": {},
   "outputs": [
    {
     "data": {
      "text/plain": [
       "array([[<AxesSubplot:title={'center':'last_price'}>]], dtype=object)"
      ]
     },
     "execution_count": 10,
     "metadata": {},
     "output_type": "execute_result"
    },
    {
     "data": {
      "image/png": "[encoded data removed]",
      "text/plain": [
       "<Figure size 720x288 with 1 Axes>"
      ]
     },
     "metadata": {
      "needs_background": "light"
     },
     "output_type": "display_data"
    }
   ],
   "source": [
    "data.hist(column = 'last_price', bins = 30, range = (0, 10000000), figsize=(10,4))"
   ]
  },
  {
   "cell_type": "markdown",
   "metadata": {},
   "source": [
    "Чаще всего встречались объявления с ценой квартиры в районе 4 млн.р."
   ]
  },
  {
   "cell_type": "code",
   "execution_count": 11,
   "metadata": {},
   "outputs": [
    {
     "data": {
      "text/plain": [
       "array([[<AxesSubplot:title={'center':'rooms'}>]], dtype=object)"
      ]
     },
     "execution_count": 11,
     "metadata": {},
     "output_type": "execute_result"
    },
    {
     "data": {
      "image/png": "[encoded data removed]",
      "text/plain": [
       "<Figure size 720x288 with 1 Axes>"
      ]
     },
     "metadata": {
      "needs_background": "light"
     },
     "output_type": "display_data"
    }
   ],
   "source": [
    "data.hist(column = 'rooms', bins = 20, range = (0, 10), figsize=(10,4))"
   ]
  },
  {
   "cell_type": "markdown",
   "metadata": {},
   "source": [
    "Подавляющее большинство занимают одно-, двух- и трёхкомнатные квартиры"
   ]
  },
  {
   "cell_type": "code",
   "execution_count": 12,
   "metadata": {
    "scrolled": true
   },
   "outputs": [
    {
     "data": {
      "text/plain": [
       "array([[<AxesSubplot:title={'center':'ceiling_height'}>]], dtype=object)"
      ]
     },
     "execution_count": 12,
     "metadata": {},
     "output_type": "execute_result"
    },
    {
     "data": {
      "image/png": "[encoded data removed]",
      "text/plain": [
       "<Figure size 720x288 with 1 Axes>"
      ]
     },
     "metadata": {
      "needs_background": "light"
     },
     "output_type": "display_data"
    }
   ],
   "source": [
    "data.hist(column = 'ceiling_height',bins = 30, range = (2, 5), figsize=(10,4))"
   ]
  },
  {
   "cell_type": "markdown",
   "metadata": {},
   "source": [
    "Больше всего квартир с высотой потолков 2.75 м, но есть и большие значения. Это могут быть какие-то промышленные или коммерческие помещения."
   ]
  },
  {
   "cell_type": "code",
   "execution_count": 13,
   "metadata": {},
   "outputs": [
    {
     "data": {
      "text/plain": [
       "array([[<AxesSubplot:title={'center':'floor'}>]], dtype=object)"
      ]
     },
     "execution_count": 13,
     "metadata": {},
     "output_type": "execute_result"
    },
    {
     "data": {
      "image/png": "[encoded data removed]",
      "text/plain": [
       "<Figure size 720x288 with 1 Axes>"
      ]
     },
     "metadata": {
      "needs_background": "light"
     },
     "output_type": "display_data"
    }
   ],
   "source": [
    "data.hist(column = 'floor', range = (0, 30), figsize=(10,4))"
   ]
  },
  {
   "cell_type": "markdown",
   "metadata": {},
   "source": [
    "Больше всего квартир на пятом и меньших этажах"
   ]
  },
  {
   "cell_type": "code",
   "execution_count": 14,
   "metadata": {},
   "outputs": [
    {
     "data": {
      "text/plain": [
       "<AxesSubplot:>"
      ]
     },
     "execution_count": 14,
     "metadata": {},
     "output_type": "execute_result"
    },
    {
     "data": {
      "image/png": "[encoded data removed]",
      "text/plain": [
       "<Figure size 720x288 with 1 Axes>"
      ]
     },
     "metadata": {
      "needs_background": "light"
     },
     "output_type": "display_data"
    }
   ],
   "source": [
    "data['type_of_floor'].hist(bins=5, grid=True, figsize=(10,4))"
   ]
  },
  {
   "cell_type": "markdown",
   "metadata": {},
   "source": [
    "Чаще всего квартиры находятся ни на первом, ни на последнем этажах"
   ]
  },
  {
   "cell_type": "code",
   "execution_count": 15,
   "metadata": {},
   "outputs": [
    {
     "data": {
      "text/plain": [
       "array([[<AxesSubplot:title={'center':'floors_total'}>]], dtype=object)"
      ]
     },
     "execution_count": 15,
     "metadata": {},
     "output_type": "execute_result"
    },
    {
     "data": {
      "image/png": "[encoded data removed]",
      "text/plain": [
       "<Figure size 720x288 with 1 Axes>"
      ]
     },
     "metadata": {
      "needs_background": "light"
     },
     "output_type": "display_data"
    }
   ],
   "source": [
    "data.hist(column = 'floors_total', range = (0, 30), figsize=(10,4))"
   ]
  },
  {
   "cell_type": "markdown",
   "metadata": {},
   "source": [
    "Больше всего домов с пятью этажами, почти в половину меньше домов имеют в районе 10 этажей"
   ]
  },
  {
   "cell_type": "code",
   "execution_count": 16,
   "metadata": {},
   "outputs": [
    {
     "data": {
      "text/plain": [
       "array([[<AxesSubplot:title={'center':'city_centers_nearest'}>]],\n",
       "      dtype=object)"
      ]
     },
     "execution_count": 16,
     "metadata": {},
     "output_type": "execute_result"
    },
    {
     "data": {
      "image/png": "[encoded data removed]",
      "text/plain": [
       "<Figure size 720x288 with 1 Axes>"
      ]
     },
     "metadata": {
      "needs_background": "light"
     },
     "output_type": "display_data"
    }
   ],
   "source": [
    "data.hist(column = 'city_centers_nearest', bins = 20, range = (0, 30000), figsize=(10,4))"
   ]
  },
  {
   "cell_type": "markdown",
   "metadata": {},
   "source": [
    "Чаще всего жильё находится на расстоянии 12 - 15 км от центра города."
   ]
  },
  {
   "cell_type": "code",
   "execution_count": 17,
   "metadata": {},
   "outputs": [
    {
     "data": {
      "text/plain": [
       "array([[<AxesSubplot:title={'center':'airports_nearest'}>]], dtype=object)"
      ]
     },
     "execution_count": 17,
     "metadata": {},
     "output_type": "execute_result"
    },
    {
     "data": {
      "image/png": "[encoded data removed]",
      "text/plain": [
       "<Figure size 1080x288 with 1 Axes>"
      ]
     },
     "metadata": {
      "needs_background": "light"
     },
     "output_type": "display_data"
    }
   ],
   "source": [
    "data.hist(column = 'airports_nearest', bins = 20, range = (0, 50000), figsize=(15,4))"
   ]
  },
  {
   "cell_type": "markdown",
   "metadata": {},
   "source": [
    "Самое большое количество жилья расположено на расстоянии 12 - 25 км от аэропорта, чуть меньше на расстоянии 32 - 37 км"
   ]
  },
  {
   "cell_type": "code",
   "execution_count": 18,
   "metadata": {},
   "outputs": [
    {
     "data": {
      "text/plain": [
       "array([[<AxesSubplot:title={'center':'parks_nearest'}>]], dtype=object)"
      ]
     },
     "execution_count": 18,
     "metadata": {},
     "output_type": "execute_result"
    },
    {
     "data": {
      "image/png": "[encoded data removed]",
      "text/plain": [
       "<Figure size 720x288 with 1 Axes>"
      ]
     },
     "metadata": {
      "needs_background": "light"
     },
     "output_type": "display_data"
    }
   ],
   "source": [
    "data.hist(column = 'parks_nearest', bins = 20, range = (0, 5000), figsize=(10,4))"
   ]
  },
  {
   "cell_type": "markdown",
   "metadata": {},
   "source": [
    "В большинстве случаев расстояние до парка не превышает километра. Пик приходится на 500 метров"
   ]
  },
  {
   "cell_type": "code",
   "execution_count": 19,
   "metadata": {},
   "outputs": [
    {
     "data": {
      "text/plain": [
       "<AxesSubplot:ylabel='Frequency'>"
      ]
     },
     "execution_count": 19,
     "metadata": {},
     "output_type": "execute_result"
    },
    {
     "data": {
      "image/png": "[encoded data removed]",
      "text/plain": [
       "<Figure size 720x288 with 1 Axes>"
      ]
     },
     "metadata": {
      "needs_background": "light"
     },
     "output_type": "display_data"
    }
   ],
   "source": [
    "data.plot(kind='hist', y='publication_day', bins=12, grid=True, figsize=(10,4))"
   ]
  },
  {
   "cell_type": "markdown",
   "metadata": {},
   "source": [
    "Объявления чаще выкладывались в будние дни"
   ]
  },
  {
   "cell_type": "code",
   "execution_count": 20,
   "metadata": {
    "scrolled": true
   },
   "outputs": [
    {
     "data": {
      "text/plain": [
       "array([[<AxesSubplot:title={'center':'days_exposition'}>]], dtype=object)"
      ]
     },
     "execution_count": 20,
     "metadata": {},
     "output_type": "execute_result"
    },
    {
     "data": {
      "image/png": "[encoded data removed]",
      "text/plain": [
       "<Figure size 720x288 with 1 Axes>"
      ]
     },
     "metadata": {
      "needs_background": "light"
     },
     "output_type": "display_data"
    }
   ],
   "source": [
    "data.hist(column = 'days_exposition', bins = 30, range = (0, 500), figsize=(10,4))"
   ]
  },
  {
   "cell_type": "markdown",
   "metadata": {},
   "source": [
    "Чаще всего квартира продавалась за срок до 50 дней, что является быстрой продажей. Более высокие значения, доходящие до 500, могут быть признаком того, что объявление забыли снять, или с жильем что-то не так. Такие продажи являются необычайно долгими."
   ]
  },
  {
   "cell_type": "code",
   "execution_count": 21,
   "metadata": {},
   "outputs": [
    {
     "name": "stdout",
     "output_type": "stream",
     "text": [
      "В среднем квартиры продаются за 181.0 дней\n",
      "Медианным значением является 95.0 дня\n"
     ]
    }
   ],
   "source": [
    "print('В среднем квартиры продаются за', data['days_exposition'].mean().round(), 'дней')\n",
    "print('Медианным значением является', data['days_exposition'].median(), 'дня')"
   ]
  },
  {
   "cell_type": "code",
   "execution_count": 22,
   "metadata": {},
   "outputs": [
    {
     "name": "stdout",
     "output_type": "stream",
     "text": [
      "Коэффициент корреляции составляет 0.65\n"
     ]
    },
    {
     "data": {
      "image/png": "[encoded data removed]",
      "text/plain": [
       "<Figure size 432x288 with 1 Axes>"
      ]
     },
     "metadata": {
      "needs_background": "light"
     },
     "output_type": "display_data"
    }
   ],
   "source": [
    "# Посмотрим на зависимость стоимости квартиры от общей площади\n",
    "data.sort_values('last_price').plot(x='last_price', y='total_area', kind = 'scatter')\n",
    "print('Коэффициент корреляции составляет', round(data['total_area'].corr(data['last_price']), 2))"
   ]
  },
  {
   "cell_type": "markdown",
   "metadata": {},
   "source": [
    "Большинство точек указывавет на то, что цена напрямую зависит от общей площади. Это же подтверждается коэффициентом корреляции"
   ]
  },
  {
   "cell_type": "code",
   "execution_count": 23,
   "metadata": {},
   "outputs": [
    {
     "name": "stdout",
     "output_type": "stream",
     "text": [
      "Коэффициент корреляции составляет 0.59\n"
     ]
    },
    {
     "data": {
      "image/png": "[encoded data removed]",
      "text/plain": [
       "<Figure size 432x288 with 1 Axes>"
      ]
     },
     "metadata": {
      "needs_background": "light"
     },
     "output_type": "display_data"
    }
   ],
   "source": [
    "data.sort_values('last_price').plot(x='last_price', y='living_area', kind = 'scatter')\n",
    "print('Коэффициент корреляции составляет', round(data['living_area'].corr(data['last_price']), 2))"
   ]
  },
  {
   "cell_type": "markdown",
   "metadata": {},
   "source": [
    "Жилая площадь в какой-то степени связана с общей площадью, поэтому зависимость между ней и ценой тоже прямая"
   ]
  },
  {
   "cell_type": "code",
   "execution_count": 24,
   "metadata": {},
   "outputs": [
    {
     "name": "stdout",
     "output_type": "stream",
     "text": [
      "Коэффициент корреляции составляет 0.52\n"
     ]
    },
    {
     "data": {
      "image/png": "[encoded data removed]",
      "text/plain": [
       "<Figure size 432x288 with 1 Axes>"
      ]
     },
     "metadata": {
      "needs_background": "light"
     },
     "output_type": "display_data"
    }
   ],
   "source": [
    "data.sort_values('last_price').plot(x='last_price', y='kitchen_area', kind = 'scatter')\n",
    "print('Коэффициент корреляции составляет', round(data['kitchen_area'].corr(data['last_price']), 2))"
   ]
  },
  {
   "cell_type": "markdown",
   "metadata": {},
   "source": [
    "Площадь кухни тоже связана с другими значениями площадей и тоже связана с ценой, но зависимость слабее. Исходя из трёх этих параметров, можно сделать вывод, что чем больше эти площади (жилая и кухни, общая указывает напрямую), тем, скорее всего, больше и само жильё, соответственно тем оно и дороже."
   ]
  },
  {
   "cell_type": "code",
   "execution_count": 25,
   "metadata": {},
   "outputs": [
    {
     "name": "stdout",
     "output_type": "stream",
     "text": [
      "Коэффициент корреляции составляет 0.36\n"
     ]
    },
    {
     "data": {
      "image/png": "[encoded data removed]",
      "text/plain": [
       "<Figure size 720x288 with 1 Axes>"
      ]
     },
     "metadata": {
      "needs_background": "light"
     },
     "output_type": "display_data"
    }
   ],
   "source": [
    "data.pivot_table(index='rooms', values='last_price').plot(style='-', figsize=(10,4))\n",
    "print('Коэффициент корреляции составляет', round(data['rooms'].corr(data['last_price']), 2))"
   ]
  },
  {
   "cell_type": "markdown",
   "metadata": {},
   "source": [
    "На графике виден прирост цены с увеличением количества комнат"
   ]
  },
  {
   "cell_type": "code",
   "execution_count": 26,
   "metadata": {},
   "outputs": [
    {
     "data": {
      "image/png": "[encoded data removed]",
      "text/plain": [
       "<Figure size 720x288 with 1 Axes>"
      ]
     },
     "metadata": {
      "needs_background": "light"
     },
     "output_type": "display_data"
    }
   ],
   "source": [
    "floor_pivot = data.pivot_table(index ='type_of_floor', values = 'last_price', aggfunc = ['median']).plot(style='-', figsize=(10,4), kind='bar', logy=True)\n"
   ]
  },
  {
   "cell_type": "markdown",
   "metadata": {},
   "source": [
    "На графике отражены медианные цены на квартиры на разныйх этажах. Мы видим, что квартиры на первом этаже являются самыми дешевыми, дороже стоят квартиры на последних этажах, и самыми дорогими являются квартиры на других этажах"
   ]
  },
  {
   "cell_type": "code",
   "execution_count": 27,
   "metadata": {
    "scrolled": false
   },
   "outputs": [
    {
     "name": "stdout",
     "output_type": "stream",
     "text": [
      "Коэффициент корреляции равен 0.0\n"
     ]
    },
    {
     "data": {
      "image/png": "[encoded data removed]",
      "text/plain": [
       "<Figure size 720x288 with 1 Axes>"
      ]
     },
     "metadata": {
      "needs_background": "light"
     },
     "output_type": "display_data"
    }
   ],
   "source": [
    "day_of_week_pivot = data.pivot_table(index ='publication_day', values = 'last_price').plot(style='-', figsize=(10,4))\n",
    "print('Коэффициент корреляции равен', round(data['publication_day'].corr(data['last_price']), 2))"
   ]
  },
  {
   "cell_type": "markdown",
   "metadata": {},
   "source": [
    "По графику видно, что самые дорогие объявления были выложены в субботу, чуть дешевле в среду - четверг. Но это нельзя считать закономерностью."
   ]
  },
  {
   "cell_type": "code",
   "execution_count": 28,
   "metadata": {},
   "outputs": [
    {
     "name": "stdout",
     "output_type": "stream",
     "text": [
      "Коэффициент корреляции равен 0.0\n"
     ]
    },
    {
     "data": {
      "image/png": "[encoded data removed]",
      "text/plain": [
       "<Figure size 720x288 with 1 Axes>"
      ]
     },
     "metadata": {
      "needs_background": "light"
     },
     "output_type": "display_data"
    }
   ],
   "source": [
    "month_pivot = data.pivot_table(index ='publication_month', values = 'last_price').plot(style='-', figsize=(10,4))\n",
    "print('Коэффициент корреляции равен', round(data['publication_month'].corr(data['last_price']), 2))"
   ]
  },
  {
   "cell_type": "markdown",
   "metadata": {},
   "source": [
    "Согласно коэффициенту корреляции, связь так же отсутствует, хотя на графике заметна определенная периодичность. Пики приходятся на январь, апрель, июль, сентябрь и декабрь"
   ]
  },
  {
   "cell_type": "code",
   "execution_count": 29,
   "metadata": {
    "scrolled": true
   },
   "outputs": [
    {
     "name": "stdout",
     "output_type": "stream",
     "text": [
      "Коэффициент корреляции равен -0.04\n"
     ]
    },
    {
     "data": {
      "image/png": "[encoded data removed]",
      "text/plain": [
       "<Figure size 720x288 with 1 Axes>"
      ]
     },
     "metadata": {
      "needs_background": "light"
     },
     "output_type": "display_data"
    }
   ],
   "source": [
    "year_pivot = data.pivot_table(index ='publication_year', values = 'last_price').plot(style='-', figsize=(10,4))\n",
    "print('Коэффициент корреляции равен', round(data['publication_year'].corr(data['last_price']), 2))"
   ]
  },
  {
   "cell_type": "markdown",
   "metadata": {},
   "source": [
    "На графике виден практически плавный спад цены с каждый последующим годом, но с 2018 по 2019 наблюдается резкий подъём"
   ]
  },
  {
   "cell_type": "code",
   "execution_count": 30,
   "metadata": {},
   "outputs": [
    {
     "data": {
      "text/html": [
       "<div>\n",
       "<style scoped>\n",
       "    .dataframe tbody tr th:only-of-type {\n",
       "        vertical-align: middle;\n",
       "    }\n",
       "\n",
       "    .dataframe tbody tr th {\n",
       "        vertical-align: top;\n",
       "    }\n",
       "\n",
       "    .dataframe thead tr th {\n",
       "        text-align: left;\n",
       "    }\n",
       "\n",
       "    .dataframe thead tr:last-of-type th {\n",
       "        text-align: right;\n",
       "    }\n",
       "</style>\n",
       "<table border=\"1\" class=\"dataframe\">\n",
       "  <thead>\n",
       "    <tr>\n",
       "      <th></th>\n",
       "      <th>count</th>\n",
       "      <th>mean</th>\n",
       "      <th>median</th>\n",
       "    </tr>\n",
       "    <tr>\n",
       "      <th></th>\n",
       "      <th>last_price</th>\n",
       "      <th>last_price</th>\n",
       "      <th>last_price</th>\n",
       "    </tr>\n",
       "    <tr>\n",
       "      <th>locality_name</th>\n",
       "      <th></th>\n",
       "      <th></th>\n",
       "      <th></th>\n",
       "    </tr>\n",
       "  </thead>\n",
       "  <tbody>\n",
       "    <tr>\n",
       "      <th>санкт-петербург</th>\n",
       "      <td>15721</td>\n",
       "      <td>8.062507e+06</td>\n",
       "      <td>5500000.0</td>\n",
       "    </tr>\n",
       "    <tr>\n",
       "      <th>пушкин</th>\n",
       "      <td>369</td>\n",
       "      <td>6.469036e+06</td>\n",
       "      <td>5180000.0</td>\n",
       "    </tr>\n",
       "    <tr>\n",
       "      <th>поселок парголово</th>\n",
       "      <td>327</td>\n",
       "      <td>4.488075e+06</td>\n",
       "      <td>4100000.0</td>\n",
       "    </tr>\n",
       "    <tr>\n",
       "      <th>деревня кудрово</th>\n",
       "      <td>299</td>\n",
       "      <td>4.234158e+06</td>\n",
       "      <td>3790000.0</td>\n",
       "    </tr>\n",
       "    <tr>\n",
       "      <th>поселок шушары</th>\n",
       "      <td>440</td>\n",
       "      <td>4.108082e+06</td>\n",
       "      <td>3950000.0</td>\n",
       "    </tr>\n",
       "    <tr>\n",
       "      <th>колпино</th>\n",
       "      <td>338</td>\n",
       "      <td>3.964021e+06</td>\n",
       "      <td>3600000.0</td>\n",
       "    </tr>\n",
       "    <tr>\n",
       "      <th>всеволожск</th>\n",
       "      <td>398</td>\n",
       "      <td>3.789068e+06</td>\n",
       "      <td>3450000.0</td>\n",
       "    </tr>\n",
       "    <tr>\n",
       "      <th>поселок мурино</th>\n",
       "      <td>556</td>\n",
       "      <td>3.652361e+06</td>\n",
       "      <td>3400000.0</td>\n",
       "    </tr>\n",
       "    <tr>\n",
       "      <th>гатчина</th>\n",
       "      <td>307</td>\n",
       "      <td>3.488337e+06</td>\n",
       "      <td>3100000.0</td>\n",
       "    </tr>\n",
       "    <tr>\n",
       "      <th>выборг</th>\n",
       "      <td>237</td>\n",
       "      <td>3.250983e+06</td>\n",
       "      <td>2897000.0</td>\n",
       "    </tr>\n",
       "  </tbody>\n",
       "</table>\n",
       "</div>"
      ],
      "text/plain": [
       "                       count          mean     median\n",
       "                  last_price    last_price last_price\n",
       "locality_name                                        \n",
       "санкт-петербург        15721  8.062507e+06  5500000.0\n",
       "пушкин                   369  6.469036e+06  5180000.0\n",
       "поселок парголово        327  4.488075e+06  4100000.0\n",
       "деревня кудрово          299  4.234158e+06  3790000.0\n",
       "поселок шушары           440  4.108082e+06  3950000.0\n",
       "колпино                  338  3.964021e+06  3600000.0\n",
       "всеволожск               398  3.789068e+06  3450000.0\n",
       "поселок мурино           556  3.652361e+06  3400000.0\n",
       "гатчина                  307  3.488337e+06  3100000.0\n",
       "выборг                   237  3.250983e+06  2897000.0"
      ]
     },
     "execution_count": 30,
     "metadata": {},
     "output_type": "execute_result"
    }
   ],
   "source": [
    "#Посчитаем среднюю цену одного квадратного метра в 10 населённых пунктах с наибольшим числом объявлений\n",
    "data.pivot_table(index='locality_name', values='last_price', aggfunc=['count', 'mean', 'median']).sort_values(('count', 'last_price'), ascending=False).head(10).sort_values(('mean', 'last_price'), ascending=False)"
   ]
  },
  {
   "cell_type": "markdown",
   "metadata": {},
   "source": [
    "Больше всего квадратный метр в среднем стоит в Санкт-Петербурге, а меньше всего в Выборге"
   ]
  },
  {
   "cell_type": "code",
   "execution_count": 31,
   "metadata": {},
   "outputs": [
    {
     "data": {
      "text/plain": [
       "<AxesSubplot:xlabel='city_centers_nearest_km'>"
      ]
     },
     "execution_count": 31,
     "metadata": {},
     "output_type": "execute_result"
    },
    {
     "data": {
      "image/png": "[encoded data removed]",
      "text/plain": [
       "<Figure size 720x288 with 1 Axes>"
      ]
     },
     "metadata": {
      "needs_background": "light"
     },
     "output_type": "display_data"
    }
   ],
   "source": [
    "# Ранее мы считали расстояние до центра в километрах. Теперь посчитаем цену каждого километра в Санкт-Петербурге\n",
    "data[data['locality_name']=='санкт-петербург'].pivot_table(index='city_centers_nearest_km', values=['last_price'], aggfunc=['mean']).plot(style='-', figsize=(10,4))"
   ]
  },
  {
   "cell_type": "markdown",
   "metadata": {},
   "source": [
    "На графике видно, что средняя стоимость квартир падает при возрастании расстояния до центра. Также видны пики цен на удалении 6-7 км. от центра и 26-27 и резкий спад от 0 до 3 км."
   ]
  },
  {
   "cell_type": "markdown",
   "metadata": {},
   "source": [
    "### Общий вывод"
   ]
  },
  {
   "cell_type": "markdown",
   "metadata": {},
   "source": [
    " В данной работе были исследованы данные сервиса Яндекс Недвижимость — архива объявлений за несколько лет о продаже квартир в Санкт-Петербурге и соседних населённых пунктах. \n",
    " \n",
    " Выполнена предобработка данных. Пропущенные значения и аномалии были заменены там, где это представилось возможным. Были устранены дубликаты в названиях населенных пунктов. \n",
    " \n",
    " Добавили в таблицу столбцы с такими данными, как: цена одного квадратного метра, день недели публикации объявления, месяц публикации объявления, год публикации объявления, тип этажа квартиры, расстояние до центра города в километрах. \n",
    " \n",
    " Проведен исследовательский анализ таких данных, как : общая площадь, жилая площадь, площадь кухни, цена объекта, количество комнат, высота потолков, этаж квартиры, тип этажа квартиры, общее количество этажей в доме, расстояние до центра города в метрах, расстояние до ближайшего аэропорта, расстояние до ближайшего парка, день и месяц публикации объявления. По каждому из этих параметров были построены и описаны гистограммы. В ходе анализа было установлено, что чаще всего встречаются объявления с:общей площадью 30-40 м.кв; с жилой площадью ~ 20 м.кв.; с площадью кухни 5-10 м.кв.; стоимостью в районе 4 млн.руб.; с количеством комнат от 1 до 3; с потолком 2.75 м.; на 5 этаже; с расположением ни на первом и ни на последнем этажах; в пятиэтажном доме; на расстоянии 12-15 км от центра, 12-25 от аэропорта и в радиусе километра до ближайшего парка (пиковое количество на расстоянии 500 метров). Чаще всего объявления выкладывались в будние дни и квартира продавалась примерно за 50 дней.  \n",
    " \n",
    " Также было изучено, как быстро продавались квартиры. Было изучено, как различные параметры влияют на стоимость квартиры. Рассматривались параметры : общая, жилая и площадь кухни; количество комнат; этаж расположения квартиры (первый, последний, другой); дата размещения (день недели, месяц, год). Так было выявлено, что есть практически прямая зависимость между ценой квартиры и общей площадью, жилой площадью, площадью кухни, количеством комнат и этажом расположения (первый, последний, другой). Цена слабо зависит или не зависит вообще от даты размещения объявления, но на графике зависимости от года виден спад цен до 2018 года и подъём с 2018 по 2019 годы. Можно было бы также рассотреть зависимость цены от длительности размещения объявления, потому что люди склонны уменьшать цену, если что-то долго не продается. Также можно было бы изучить зависимость цены от числа балконов, т.к. в маленькой и дешевой квартире, скорее всего, много их быть не может.\n",
    " \n",
    " Была посчитана средняя стоимость одного квадратного метра в 10 населенных пунктах с наибольшим числом объявлений и были выделены населенные пункты с наибольшей и наименьшей ценами. Такими населенными пунктами оказались соответственно Санкт-Петербург и Выборг.\n",
    " \n",
    " Также было определено, как на цену жилья в Санкт-Петербурге влияет то, насколько оно удалено от центра. При удалении от центра, цена снижается."
   ]
  }
 ],
 "metadata": {
  "ExecuteTimeLog": [
   {
    "duration": 801,
    "start_time": "2023-04-13T13:35:34.570Z"
   },
   {
    "duration": 280,
    "start_time": "2023-04-13T13:44:27.053Z"
   },
   {
    "duration": 110,
    "start_time": "2023-04-13T13:44:40.261Z"
   },
   {
    "duration": 91,
    "start_time": "2023-04-13T13:44:57.152Z"
   },
   {
    "duration": 585,
    "start_time": "2023-04-13T13:46:29.038Z"
   },
   {
    "duration": 706,
    "start_time": "2023-04-13T13:47:50.922Z"
   },
   {
    "duration": 2432,
    "start_time": "2023-04-13T13:51:03.796Z"
   },
   {
    "duration": 2296,
    "start_time": "2023-04-13T13:51:29.182Z"
   },
   {
    "duration": 2032,
    "start_time": "2023-04-13T13:53:39.072Z"
   },
   {
    "duration": 1916,
    "start_time": "2023-04-13T13:54:03.253Z"
   },
   {
    "duration": 2197,
    "start_time": "2023-04-13T14:00:23.802Z"
   },
   {
    "duration": 2312,
    "start_time": "2023-04-13T14:01:11.903Z"
   },
   {
    "duration": 15,
    "start_time": "2023-04-13T14:02:08.367Z"
   },
   {
    "duration": 15,
    "start_time": "2023-04-13T14:05:36.660Z"
   },
   {
    "duration": 23,
    "start_time": "2023-04-13T14:06:14.869Z"
   },
   {
    "duration": 18,
    "start_time": "2023-04-13T14:06:33.707Z"
   },
   {
    "duration": 346,
    "start_time": "2023-04-13T14:07:24.901Z"
   },
   {
    "duration": 11,
    "start_time": "2023-04-13T14:07:30.868Z"
   },
   {
    "duration": 11,
    "start_time": "2023-04-13T14:07:51.137Z"
   },
   {
    "duration": 10,
    "start_time": "2023-04-13T14:08:16.301Z"
   },
   {
    "duration": 26,
    "start_time": "2023-04-13T14:08:37.405Z"
   },
   {
    "duration": 20,
    "start_time": "2023-04-13T14:09:23.294Z"
   },
   {
    "duration": 19,
    "start_time": "2023-04-13T14:09:59.414Z"
   },
   {
    "duration": 10,
    "start_time": "2023-04-13T14:11:12.864Z"
   },
   {
    "duration": 10,
    "start_time": "2023-04-13T14:13:17.260Z"
   },
   {
    "duration": 3046,
    "start_time": "2023-05-05T08:01:25.170Z"
   },
   {
    "duration": 14,
    "start_time": "2023-05-05T08:39:44.674Z"
   },
   {
    "duration": 29,
    "start_time": "2023-05-05T08:40:25.381Z"
   },
   {
    "duration": 37,
    "start_time": "2023-05-05T08:45:58.336Z"
   },
   {
    "duration": 19,
    "start_time": "2023-05-05T09:04:04.211Z"
   },
   {
    "duration": 19,
    "start_time": "2023-05-05T09:05:49.651Z"
   },
   {
    "duration": 29,
    "start_time": "2023-05-05T09:06:19.970Z"
   },
   {
    "duration": 20,
    "start_time": "2023-05-05T09:07:37.019Z"
   },
   {
    "duration": 26,
    "start_time": "2023-05-05T09:07:51.852Z"
   },
   {
    "duration": 28,
    "start_time": "2023-05-05T09:09:04.068Z"
   },
   {
    "duration": 146,
    "start_time": "2023-05-05T09:11:12.326Z"
   },
   {
    "duration": 28,
    "start_time": "2023-05-05T09:11:37.352Z"
   },
   {
    "duration": 33,
    "start_time": "2023-05-05T09:24:24.691Z"
   },
   {
    "duration": 40,
    "start_time": "2023-05-05T09:24:34.419Z"
   },
   {
    "duration": 24,
    "start_time": "2023-05-05T09:41:38.426Z"
   },
   {
    "duration": 39,
    "start_time": "2023-05-05T09:49:03.730Z"
   },
   {
    "duration": 25,
    "start_time": "2023-05-05T09:54:26.383Z"
   },
   {
    "duration": 25,
    "start_time": "2023-05-05T09:56:25.625Z"
   },
   {
    "duration": 35,
    "start_time": "2023-05-05T09:56:35.041Z"
   },
   {
    "duration": 60,
    "start_time": "2023-05-05T10:11:55.671Z"
   },
   {
    "duration": 102,
    "start_time": "2023-05-05T10:12:38.720Z"
   },
   {
    "duration": 63,
    "start_time": "2023-05-05T10:17:57.510Z"
   },
   {
    "duration": 56,
    "start_time": "2023-05-05T10:18:18.878Z"
   },
   {
    "duration": 71,
    "start_time": "2023-05-05T10:22:20.803Z"
   },
   {
    "duration": 54,
    "start_time": "2023-05-05T10:23:31.220Z"
   },
   {
    "duration": 2047,
    "start_time": "2023-05-05T10:30:20.569Z"
   },
   {
    "duration": 132,
    "start_time": "2023-05-05T10:34:21.476Z"
   },
   {
    "duration": 114,
    "start_time": "2023-05-05T10:34:33.189Z"
   },
   {
    "duration": 179,
    "start_time": "2023-05-05T10:35:06.254Z"
   },
   {
    "duration": 136,
    "start_time": "2023-05-05T10:35:49.166Z"
   },
   {
    "duration": 683,
    "start_time": "2023-05-08T16:30:48.945Z"
   },
   {
    "duration": 8,
    "start_time": "2023-05-08T16:31:06.519Z"
   },
   {
    "duration": 2797,
    "start_time": "2023-05-08T16:35:44.498Z"
   },
   {
    "duration": 1948,
    "start_time": "2023-05-08T16:37:37.049Z"
   },
   {
    "duration": 47,
    "start_time": "2023-05-08T16:37:39.005Z"
   },
   {
    "duration": 71,
    "start_time": "2023-05-08T16:37:39.054Z"
   },
   {
    "duration": 137,
    "start_time": "2023-05-08T16:37:39.127Z"
   },
   {
    "duration": 150,
    "start_time": "2023-05-08T16:37:55.621Z"
   },
   {
    "duration": 130,
    "start_time": "2023-05-08T16:39:39.033Z"
   },
   {
    "duration": 129,
    "start_time": "2023-05-08T16:52:10.527Z"
   },
   {
    "duration": 198,
    "start_time": "2023-05-08T16:52:55.399Z"
   },
   {
    "duration": 210,
    "start_time": "2023-05-08T16:54:41.879Z"
   },
   {
    "duration": 233,
    "start_time": "2023-05-08T16:55:02.606Z"
   },
   {
    "duration": 190,
    "start_time": "2023-05-08T16:55:34.070Z"
   },
   {
    "duration": 261,
    "start_time": "2023-05-08T16:57:22.922Z"
   },
   {
    "duration": 154,
    "start_time": "2023-05-08T16:57:50.387Z"
   },
   {
    "duration": 114,
    "start_time": "2023-05-08T17:02:34.524Z"
   },
   {
    "duration": 137,
    "start_time": "2023-05-08T17:02:43.706Z"
   },
   {
    "duration": 124,
    "start_time": "2023-05-08T17:11:20.806Z"
   },
   {
    "duration": 135,
    "start_time": "2023-05-08T17:12:03.210Z"
   },
   {
    "duration": 130,
    "start_time": "2023-05-08T17:25:53.888Z"
   },
   {
    "duration": 135,
    "start_time": "2023-05-08T17:26:08.199Z"
   },
   {
    "duration": 136,
    "start_time": "2023-05-08T17:26:31.091Z"
   },
   {
    "duration": 161,
    "start_time": "2023-05-08T17:26:47.944Z"
   },
   {
    "duration": 220,
    "start_time": "2023-05-08T17:28:37.015Z"
   },
   {
    "duration": 75,
    "start_time": "2023-05-08T17:32:30.400Z"
   },
   {
    "duration": 136,
    "start_time": "2023-05-08T17:36:03.571Z"
   },
   {
    "duration": 207,
    "start_time": "2023-05-08T17:40:29.031Z"
   },
   {
    "duration": 252,
    "start_time": "2023-05-08T17:42:38.697Z"
   },
   {
    "duration": 171,
    "start_time": "2023-05-08T17:45:41.368Z"
   },
   {
    "duration": 188,
    "start_time": "2023-05-08T17:46:09.164Z"
   },
   {
    "duration": 10,
    "start_time": "2023-05-08T17:48:16.343Z"
   },
   {
    "duration": 0,
    "start_time": "2023-05-08T17:55:04.539Z"
   },
   {
    "duration": 1571,
    "start_time": "2023-05-08T17:55:11.896Z"
   },
   {
    "duration": 14,
    "start_time": "2023-05-08T17:55:56.773Z"
   },
   {
    "duration": 4,
    "start_time": "2023-05-08T17:56:17.905Z"
   },
   {
    "duration": 8,
    "start_time": "2023-05-08T17:56:28.340Z"
   },
   {
    "duration": 4,
    "start_time": "2023-05-08T17:57:24.403Z"
   },
   {
    "duration": 6,
    "start_time": "2023-05-08T17:57:32.186Z"
   },
   {
    "duration": 6,
    "start_time": "2023-05-08T17:57:50.222Z"
   },
   {
    "duration": 3183,
    "start_time": "2023-05-14T13:03:13.929Z"
   },
   {
    "duration": 46,
    "start_time": "2023-05-14T13:03:17.114Z"
   },
   {
    "duration": 80,
    "start_time": "2023-05-14T13:03:17.162Z"
   },
   {
    "duration": 14,
    "start_time": "2023-05-14T13:03:17.244Z"
   },
   {
    "duration": 22,
    "start_time": "2023-05-14T13:03:17.260Z"
   },
   {
    "duration": 102,
    "start_time": "2023-05-14T13:35:59.956Z"
   },
   {
    "duration": 448,
    "start_time": "2023-05-14T13:36:10.580Z"
   },
   {
    "duration": 445,
    "start_time": "2023-05-14T13:36:58.265Z"
   },
   {
    "duration": 573,
    "start_time": "2023-05-14T13:38:04.784Z"
   },
   {
    "duration": 409,
    "start_time": "2023-05-14T13:38:25.577Z"
   },
   {
    "duration": 462,
    "start_time": "2023-05-14T13:38:43.734Z"
   },
   {
    "duration": 735,
    "start_time": "2023-05-14T13:40:00.625Z"
   },
   {
    "duration": 165,
    "start_time": "2023-05-14T13:49:50.931Z"
   },
   {
    "duration": 181,
    "start_time": "2023-05-14T13:53:19.649Z"
   },
   {
    "duration": 193,
    "start_time": "2023-05-14T13:56:22.125Z"
   },
   {
    "duration": 206,
    "start_time": "2023-05-14T13:56:33.024Z"
   },
   {
    "duration": 205,
    "start_time": "2023-05-14T13:58:34.260Z"
   },
   {
    "duration": 186,
    "start_time": "2023-05-14T13:58:45.013Z"
   },
   {
    "duration": 81,
    "start_time": "2023-05-14T13:59:41.225Z"
   },
   {
    "duration": 184,
    "start_time": "2023-05-14T13:59:47.133Z"
   },
   {
    "duration": 246,
    "start_time": "2023-05-14T13:59:54.141Z"
   },
   {
    "duration": 156,
    "start_time": "2023-05-14T14:01:49.431Z"
   },
   {
    "duration": 191,
    "start_time": "2023-05-14T14:01:57.071Z"
   },
   {
    "duration": 208,
    "start_time": "2023-05-14T14:03:47.740Z"
   },
   {
    "duration": 176,
    "start_time": "2023-05-14T14:04:05.128Z"
   },
   {
    "duration": 289,
    "start_time": "2023-05-14T14:07:37.773Z"
   },
   {
    "duration": 30,
    "start_time": "2023-05-14T14:09:44.620Z"
   },
   {
    "duration": 208,
    "start_time": "2023-05-14T14:10:38.977Z"
   },
   {
    "duration": 15,
    "start_time": "2023-05-14T14:13:35.719Z"
   },
   {
    "duration": 32,
    "start_time": "2023-05-14T14:14:17.285Z"
   },
   {
    "duration": 10,
    "start_time": "2023-05-14T14:24:39.182Z"
   },
   {
    "duration": 7,
    "start_time": "2023-05-14T14:24:52.018Z"
   },
   {
    "duration": 84,
    "start_time": "2023-05-14T14:25:23.391Z"
   },
   {
    "duration": 11,
    "start_time": "2023-05-14T14:25:29.566Z"
   },
   {
    "duration": 7,
    "start_time": "2023-05-14T14:25:49.431Z"
   },
   {
    "duration": 11,
    "start_time": "2023-05-14T14:26:26.438Z"
   },
   {
    "duration": 17,
    "start_time": "2023-05-14T14:27:10.745Z"
   },
   {
    "duration": 209,
    "start_time": "2023-05-14T14:28:35.497Z"
   },
   {
    "duration": 21,
    "start_time": "2023-05-14T14:32:42.331Z"
   },
   {
    "duration": 23,
    "start_time": "2023-05-14T14:34:26.881Z"
   },
   {
    "duration": 681,
    "start_time": "2023-05-14T14:36:16.103Z"
   },
   {
    "duration": 525,
    "start_time": "2023-05-14T14:36:50.891Z"
   },
   {
    "duration": 2900,
    "start_time": "2023-05-14T14:37:17.169Z"
   },
   {
    "duration": 64,
    "start_time": "2023-05-14T14:37:20.072Z"
   },
   {
    "duration": 88,
    "start_time": "2023-05-14T14:37:20.147Z"
   },
   {
    "duration": 12,
    "start_time": "2023-05-14T14:37:20.246Z"
   },
   {
    "duration": 33,
    "start_time": "2023-05-14T14:37:20.263Z"
   },
   {
    "duration": 517,
    "start_time": "2023-05-14T14:37:20.298Z"
   },
   {
    "duration": 195,
    "start_time": "2023-05-14T14:37:20.817Z"
   },
   {
    "duration": 316,
    "start_time": "2023-05-14T14:37:21.014Z"
   },
   {
    "duration": 190,
    "start_time": "2023-05-14T14:37:21.332Z"
   },
   {
    "duration": 230,
    "start_time": "2023-05-14T14:37:21.524Z"
   },
   {
    "duration": 188,
    "start_time": "2023-05-14T14:37:21.757Z"
   },
   {
    "duration": 195,
    "start_time": "2023-05-14T14:37:21.956Z"
   },
   {
    "duration": 184,
    "start_time": "2023-05-14T14:37:22.158Z"
   },
   {
    "duration": 27,
    "start_time": "2023-05-14T14:37:22.348Z"
   },
   {
    "duration": 340,
    "start_time": "2023-05-14T14:37:22.381Z"
   },
   {
    "duration": 19,
    "start_time": "2023-05-14T14:37:22.723Z"
   },
   {
    "duration": 627,
    "start_time": "2023-05-14T15:01:49.438Z"
   },
   {
    "duration": 479,
    "start_time": "2023-05-14T15:04:37.651Z"
   },
   {
    "duration": 506,
    "start_time": "2023-05-14T15:05:30.223Z"
   },
   {
    "duration": 215,
    "start_time": "2023-05-14T15:07:45.591Z"
   },
   {
    "duration": 166,
    "start_time": "2023-05-14T15:12:09.055Z"
   },
   {
    "duration": 127,
    "start_time": "2023-05-14T15:12:18.156Z"
   },
   {
    "duration": 246,
    "start_time": "2023-05-14T15:17:29.193Z"
   },
   {
    "duration": 197,
    "start_time": "2023-05-14T15:17:39.134Z"
   },
   {
    "duration": 142,
    "start_time": "2023-05-14T15:27:52.815Z"
   },
   {
    "duration": 5,
    "start_time": "2023-05-14T15:33:01.642Z"
   },
   {
    "duration": 4,
    "start_time": "2023-05-14T15:33:21.487Z"
   },
   {
    "duration": 6,
    "start_time": "2023-05-14T15:34:28.623Z"
   },
   {
    "duration": 6,
    "start_time": "2023-05-14T15:34:37.768Z"
   },
   {
    "duration": 176,
    "start_time": "2023-05-14T15:42:16.522Z"
   },
   {
    "duration": 247,
    "start_time": "2023-05-14T15:43:12.336Z"
   },
   {
    "duration": 231,
    "start_time": "2023-05-14T15:45:57.995Z"
   },
   {
    "duration": 1243,
    "start_time": "2023-05-14T15:47:43.461Z"
   },
   {
    "duration": 209,
    "start_time": "2023-05-14T15:47:56.237Z"
   },
   {
    "duration": 54,
    "start_time": "2023-05-14T15:49:43.752Z"
   },
   {
    "duration": 8,
    "start_time": "2023-05-14T15:50:03.827Z"
   },
   {
    "duration": 3344,
    "start_time": "2023-05-16T17:44:03.815Z"
   },
   {
    "duration": 61,
    "start_time": "2023-05-16T17:44:07.162Z"
   },
   {
    "duration": 59,
    "start_time": "2023-05-16T17:44:07.225Z"
   },
   {
    "duration": 28,
    "start_time": "2023-05-16T17:44:07.286Z"
   },
   {
    "duration": 10,
    "start_time": "2023-05-16T17:44:07.316Z"
   },
   {
    "duration": 391,
    "start_time": "2023-05-16T17:44:07.328Z"
   },
   {
    "duration": 142,
    "start_time": "2023-05-16T17:44:07.720Z"
   },
   {
    "duration": 151,
    "start_time": "2023-05-16T17:44:07.863Z"
   },
   {
    "duration": 146,
    "start_time": "2023-05-16T17:44:08.016Z"
   },
   {
    "duration": 293,
    "start_time": "2023-05-16T17:44:08.164Z"
   },
   {
    "duration": 152,
    "start_time": "2023-05-16T17:44:08.459Z"
   },
   {
    "duration": 143,
    "start_time": "2023-05-16T17:44:08.613Z"
   },
   {
    "duration": 156,
    "start_time": "2023-05-16T17:44:08.757Z"
   },
   {
    "duration": 13,
    "start_time": "2023-05-16T17:44:08.914Z"
   },
   {
    "duration": 168,
    "start_time": "2023-05-16T17:44:08.929Z"
   },
   {
    "duration": 141,
    "start_time": "2023-05-16T17:44:09.100Z"
   },
   {
    "duration": 138,
    "start_time": "2023-05-16T17:44:09.243Z"
   },
   {
    "duration": 140,
    "start_time": "2023-05-16T17:44:09.383Z"
   },
   {
    "duration": 145,
    "start_time": "2023-05-16T17:44:09.525Z"
   },
   {
    "duration": 6,
    "start_time": "2023-05-16T17:44:09.672Z"
   },
   {
    "duration": 260,
    "start_time": "2023-05-16T17:44:09.680Z"
   },
   {
    "duration": 260,
    "start_time": "2023-05-16T17:44:09.942Z"
   },
   {
    "duration": 254,
    "start_time": "2023-05-16T17:44:10.216Z"
   },
   {
    "duration": 274,
    "start_time": "2023-05-16T17:47:06.621Z"
   },
   {
    "duration": 361,
    "start_time": "2023-05-16T17:49:46.991Z"
   },
   {
    "duration": 249,
    "start_time": "2023-05-16T17:50:05.821Z"
   },
   {
    "duration": 220,
    "start_time": "2023-05-16T18:59:35.920Z"
   },
   {
    "duration": 196,
    "start_time": "2023-05-16T19:00:06.986Z"
   },
   {
    "duration": 123,
    "start_time": "2023-05-16T19:00:32.538Z"
   },
   {
    "duration": 215,
    "start_time": "2023-05-16T19:01:15.731Z"
   },
   {
    "duration": 55,
    "start_time": "2023-05-16T19:01:59.357Z"
   },
   {
    "duration": 33,
    "start_time": "2023-05-16T19:03:52.789Z"
   },
   {
    "duration": 208,
    "start_time": "2023-05-16T19:04:14.231Z"
   },
   {
    "duration": 156,
    "start_time": "2023-05-16T19:04:35.126Z"
   },
   {
    "duration": 203,
    "start_time": "2023-05-16T19:04:43.489Z"
   },
   {
    "duration": 24,
    "start_time": "2023-05-16T19:05:04.536Z"
   },
   {
    "duration": 39,
    "start_time": "2023-05-16T19:05:19.997Z"
   },
   {
    "duration": 227,
    "start_time": "2023-05-16T19:06:08.323Z"
   },
   {
    "duration": 25,
    "start_time": "2023-05-16T19:18:17.912Z"
   },
   {
    "duration": 53,
    "start_time": "2023-05-16T19:19:58.776Z"
   },
   {
    "duration": 159,
    "start_time": "2023-05-16T19:23:42.644Z"
   },
   {
    "duration": 201,
    "start_time": "2023-05-16T19:27:33.527Z"
   },
   {
    "duration": 1454,
    "start_time": "2023-05-16T19:28:49.135Z"
   },
   {
    "duration": 1676,
    "start_time": "2023-05-16T19:28:59.894Z"
   },
   {
    "duration": 2936,
    "start_time": "2023-05-17T17:48:33.521Z"
   },
   {
    "duration": 41,
    "start_time": "2023-05-17T17:48:36.459Z"
   },
   {
    "duration": 48,
    "start_time": "2023-05-17T17:48:36.502Z"
   },
   {
    "duration": 7,
    "start_time": "2023-05-17T17:48:36.552Z"
   },
   {
    "duration": 5,
    "start_time": "2023-05-17T17:48:36.561Z"
   },
   {
    "duration": 375,
    "start_time": "2023-05-17T17:48:36.567Z"
   },
   {
    "duration": 129,
    "start_time": "2023-05-17T17:48:36.944Z"
   },
   {
    "duration": 136,
    "start_time": "2023-05-17T17:48:37.075Z"
   },
   {
    "duration": 132,
    "start_time": "2023-05-17T17:48:37.212Z"
   },
   {
    "duration": 232,
    "start_time": "2023-05-17T17:48:37.347Z"
   },
   {
    "duration": 139,
    "start_time": "2023-05-17T17:48:37.580Z"
   },
   {
    "duration": 137,
    "start_time": "2023-05-17T17:48:37.721Z"
   },
   {
    "duration": 145,
    "start_time": "2023-05-17T17:48:37.859Z"
   },
   {
    "duration": 12,
    "start_time": "2023-05-17T17:48:38.006Z"
   },
   {
    "duration": 155,
    "start_time": "2023-05-17T17:48:38.019Z"
   },
   {
    "duration": 124,
    "start_time": "2023-05-17T17:48:38.175Z"
   },
   {
    "duration": 142,
    "start_time": "2023-05-17T17:48:38.301Z"
   },
   {
    "duration": 127,
    "start_time": "2023-05-17T17:48:38.445Z"
   },
   {
    "duration": 119,
    "start_time": "2023-05-17T17:48:38.574Z"
   },
   {
    "duration": 5,
    "start_time": "2023-05-17T17:48:38.695Z"
   },
   {
    "duration": 196,
    "start_time": "2023-05-17T17:48:38.702Z"
   },
   {
    "duration": 200,
    "start_time": "2023-05-17T17:48:38.899Z"
   },
   {
    "duration": 191,
    "start_time": "2023-05-17T17:48:39.101Z"
   },
   {
    "duration": 197,
    "start_time": "2023-05-17T17:48:39.293Z"
   },
   {
    "duration": 1437,
    "start_time": "2023-05-17T17:48:39.492Z"
   },
   {
    "duration": 1246,
    "start_time": "2023-05-17T17:49:36.943Z"
   },
   {
    "duration": 258,
    "start_time": "2023-05-17T17:51:31.881Z"
   },
   {
    "duration": 184,
    "start_time": "2023-05-17T17:51:39.048Z"
   },
   {
    "duration": 183,
    "start_time": "2023-05-17T17:51:45.347Z"
   },
   {
    "duration": 132,
    "start_time": "2023-05-17T17:52:55.688Z"
   },
   {
    "duration": 11,
    "start_time": "2023-05-17T17:58:22.744Z"
   },
   {
    "duration": 1269,
    "start_time": "2023-05-17T17:59:55.713Z"
   },
   {
    "duration": 131,
    "start_time": "2023-05-17T18:01:11.185Z"
   },
   {
    "duration": 20,
    "start_time": "2023-05-17T18:03:12.191Z"
   },
   {
    "duration": 155,
    "start_time": "2023-05-17T18:07:15.313Z"
   },
   {
    "duration": 1164,
    "start_time": "2023-05-17T18:08:32.105Z"
   },
   {
    "duration": 17,
    "start_time": "2023-05-17T18:08:52.426Z"
   },
   {
    "duration": 14,
    "start_time": "2023-05-17T18:09:31.051Z"
   },
   {
    "duration": 20604,
    "start_time": "2023-05-17T18:09:48.355Z"
   },
   {
    "duration": 20152,
    "start_time": "2023-05-17T18:17:15.293Z"
   },
   {
    "duration": 3084,
    "start_time": "2023-05-17T18:31:17.881Z"
   },
   {
    "duration": 145,
    "start_time": "2023-05-17T18:33:08.631Z"
   },
   {
    "duration": 461,
    "start_time": "2023-05-17T18:36:28.957Z"
   },
   {
    "duration": 11,
    "start_time": "2023-05-17T18:41:42.627Z"
   },
   {
    "duration": 11,
    "start_time": "2023-05-17T18:41:52.354Z"
   },
   {
    "duration": 12,
    "start_time": "2023-05-17T18:42:36.577Z"
   },
   {
    "duration": 12,
    "start_time": "2023-05-17T18:42:59.700Z"
   },
   {
    "duration": 372,
    "start_time": "2023-05-17T18:43:11.396Z"
   },
   {
    "duration": 10,
    "start_time": "2023-05-17T18:53:22.454Z"
   },
   {
    "duration": 370,
    "start_time": "2023-05-17T18:53:30.311Z"
   },
   {
    "duration": 2945,
    "start_time": "2023-05-18T16:47:33.802Z"
   },
   {
    "duration": 47,
    "start_time": "2023-05-18T16:47:36.750Z"
   },
   {
    "duration": 54,
    "start_time": "2023-05-18T16:47:36.798Z"
   },
   {
    "duration": 11,
    "start_time": "2023-05-18T16:47:36.854Z"
   },
   {
    "duration": 8,
    "start_time": "2023-05-18T16:47:36.867Z"
   },
   {
    "duration": 404,
    "start_time": "2023-05-18T16:47:36.878Z"
   },
   {
    "duration": 160,
    "start_time": "2023-05-18T16:47:37.284Z"
   },
   {
    "duration": 162,
    "start_time": "2023-05-18T16:47:37.446Z"
   },
   {
    "duration": 141,
    "start_time": "2023-05-18T16:47:37.610Z"
   },
   {
    "duration": 240,
    "start_time": "2023-05-18T16:47:37.754Z"
   },
   {
    "duration": 147,
    "start_time": "2023-05-18T16:47:37.995Z"
   },
   {
    "duration": 148,
    "start_time": "2023-05-18T16:47:38.143Z"
   },
   {
    "duration": 166,
    "start_time": "2023-05-18T16:47:38.293Z"
   },
   {
    "duration": 9,
    "start_time": "2023-05-18T16:47:38.461Z"
   },
   {
    "duration": 176,
    "start_time": "2023-05-18T16:47:38.472Z"
   },
   {
    "duration": 156,
    "start_time": "2023-05-18T16:47:38.652Z"
   },
   {
    "duration": 168,
    "start_time": "2023-05-18T16:47:38.810Z"
   },
   {
    "duration": 135,
    "start_time": "2023-05-18T16:47:38.980Z"
   },
   {
    "duration": 133,
    "start_time": "2023-05-18T16:47:39.117Z"
   },
   {
    "duration": 6,
    "start_time": "2023-05-18T16:47:39.251Z"
   },
   {
    "duration": 208,
    "start_time": "2023-05-18T16:47:39.259Z"
   },
   {
    "duration": 248,
    "start_time": "2023-05-18T16:47:39.469Z"
   },
   {
    "duration": 232,
    "start_time": "2023-05-18T16:47:39.725Z"
   },
   {
    "duration": 209,
    "start_time": "2023-05-18T16:47:39.959Z"
   },
   {
    "duration": 228,
    "start_time": "2023-05-18T16:47:40.170Z"
   },
   {
    "duration": 507,
    "start_time": "2023-05-18T16:47:40.400Z"
   },
   {
    "duration": 89,
    "start_time": "2023-05-18T16:52:59.857Z"
   },
   {
    "duration": 398,
    "start_time": "2023-05-18T16:54:17.246Z"
   },
   {
    "duration": 453,
    "start_time": "2023-05-18T16:55:00.042Z"
   },
   {
    "duration": 28,
    "start_time": "2023-05-18T16:59:25.918Z"
   },
   {
    "duration": 20,
    "start_time": "2023-05-18T17:37:57.591Z"
   },
   {
    "duration": 379,
    "start_time": "2023-05-18T17:38:21.191Z"
   },
   {
    "duration": 343,
    "start_time": "2023-05-18T17:38:41.098Z"
   },
   {
    "duration": 376,
    "start_time": "2023-05-18T17:38:52.544Z"
   },
   {
    "duration": 443,
    "start_time": "2023-05-18T17:40:14.154Z"
   },
   {
    "duration": 349,
    "start_time": "2023-05-18T17:40:25.001Z"
   },
   {
    "duration": 138,
    "start_time": "2023-05-18T17:42:40.627Z"
   },
   {
    "duration": 133,
    "start_time": "2023-05-18T17:43:27.404Z"
   },
   {
    "duration": 129,
    "start_time": "2023-05-18T17:43:34.992Z"
   },
   {
    "duration": 150,
    "start_time": "2023-05-18T17:47:26.882Z"
   },
   {
    "duration": 140,
    "start_time": "2023-05-18T17:47:52.853Z"
   },
   {
    "duration": 163,
    "start_time": "2023-05-18T17:49:15.190Z"
   },
   {
    "duration": 157,
    "start_time": "2023-05-18T17:49:23.846Z"
   },
   {
    "duration": 295,
    "start_time": "2023-05-18T17:49:36.501Z"
   },
   {
    "duration": 163,
    "start_time": "2023-05-18T17:49:48.643Z"
   },
   {
    "duration": 212,
    "start_time": "2023-05-18T17:49:55.719Z"
   },
   {
    "duration": 169,
    "start_time": "2023-05-18T17:50:02.523Z"
   },
   {
    "duration": 202,
    "start_time": "2023-05-18T17:50:09.486Z"
   },
   {
    "duration": 168,
    "start_time": "2023-05-18T17:50:17.853Z"
   },
   {
    "duration": 210,
    "start_time": "2023-05-18T17:50:29.717Z"
   },
   {
    "duration": 166,
    "start_time": "2023-05-18T17:50:36.526Z"
   },
   {
    "duration": 150,
    "start_time": "2023-05-18T17:50:45.299Z"
   },
   {
    "duration": 200,
    "start_time": "2023-05-18T17:53:13.358Z"
   },
   {
    "duration": 207,
    "start_time": "2023-05-18T17:54:39.459Z"
   },
   {
    "duration": 224,
    "start_time": "2023-05-18T17:57:38.723Z"
   },
   {
    "duration": 165,
    "start_time": "2023-05-18T18:02:08.941Z"
   },
   {
    "duration": 170,
    "start_time": "2023-05-18T18:03:13.602Z"
   },
   {
    "duration": 253,
    "start_time": "2023-05-18T18:05:38.884Z"
   },
   {
    "duration": 232,
    "start_time": "2023-05-18T18:08:01.198Z"
   },
   {
    "duration": 223,
    "start_time": "2023-05-18T18:08:29.951Z"
   },
   {
    "duration": 153,
    "start_time": "2023-05-18T18:09:40.849Z"
   },
   {
    "duration": 522,
    "start_time": "2023-05-18T18:17:46.552Z"
   },
   {
    "duration": 379,
    "start_time": "2023-05-18T18:18:34.073Z"
   },
   {
    "duration": 206,
    "start_time": "2023-05-18T18:18:49.889Z"
   },
   {
    "duration": 307,
    "start_time": "2023-05-18T18:19:23.655Z"
   },
   {
    "duration": 2150,
    "start_time": "2023-05-18T18:22:42.302Z"
   },
   {
    "duration": 53,
    "start_time": "2023-05-18T18:25:15.595Z"
   },
   {
    "duration": 183,
    "start_time": "2023-05-18T18:25:31.935Z"
   },
   {
    "duration": 172,
    "start_time": "2023-05-18T18:26:00.433Z"
   },
   {
    "duration": 2118,
    "start_time": "2023-05-18T18:26:00.607Z"
   },
   {
    "duration": 177,
    "start_time": "2023-05-18T18:27:02.451Z"
   },
   {
    "duration": 928,
    "start_time": "2023-05-18T18:28:05.341Z"
   },
   {
    "duration": 183,
    "start_time": "2023-05-18T18:28:24.940Z"
   },
   {
    "duration": 189,
    "start_time": "2023-05-18T18:28:44.733Z"
   },
   {
    "duration": 209,
    "start_time": "2023-05-18T18:29:47.918Z"
   },
   {
    "duration": 2654,
    "start_time": "2023-05-19T17:16:39.837Z"
   },
   {
    "duration": 38,
    "start_time": "2023-05-19T17:16:42.493Z"
   },
   {
    "duration": 47,
    "start_time": "2023-05-19T17:16:42.533Z"
   },
   {
    "duration": 9,
    "start_time": "2023-05-19T17:16:42.585Z"
   },
   {
    "duration": 5,
    "start_time": "2023-05-19T17:16:42.595Z"
   },
   {
    "duration": 353,
    "start_time": "2023-05-19T17:16:42.601Z"
   },
   {
    "duration": 119,
    "start_time": "2023-05-19T17:16:42.955Z"
   },
   {
    "duration": 130,
    "start_time": "2023-05-19T17:16:43.076Z"
   },
   {
    "duration": 116,
    "start_time": "2023-05-19T17:16:43.208Z"
   },
   {
    "duration": 198,
    "start_time": "2023-05-19T17:16:43.326Z"
   },
   {
    "duration": 127,
    "start_time": "2023-05-19T17:16:43.525Z"
   },
   {
    "duration": 134,
    "start_time": "2023-05-19T17:16:43.654Z"
   },
   {
    "duration": 135,
    "start_time": "2023-05-19T17:16:43.790Z"
   },
   {
    "duration": 111,
    "start_time": "2023-05-19T17:16:43.927Z"
   },
   {
    "duration": 138,
    "start_time": "2023-05-19T17:16:44.039Z"
   },
   {
    "duration": 131,
    "start_time": "2023-05-19T17:16:44.178Z"
   },
   {
    "duration": 124,
    "start_time": "2023-05-19T17:16:44.311Z"
   },
   {
    "duration": 124,
    "start_time": "2023-05-19T17:16:44.437Z"
   },
   {
    "duration": 145,
    "start_time": "2023-05-19T17:16:44.563Z"
   },
   {
    "duration": 115,
    "start_time": "2023-05-19T17:16:44.709Z"
   },
   {
    "duration": 5,
    "start_time": "2023-05-19T17:16:44.825Z"
   },
   {
    "duration": 195,
    "start_time": "2023-05-19T17:16:44.831Z"
   },
   {
    "duration": 236,
    "start_time": "2023-05-19T17:16:45.028Z"
   },
   {
    "duration": 165,
    "start_time": "2023-05-19T17:16:45.266Z"
   },
   {
    "duration": 125,
    "start_time": "2023-05-19T17:16:45.432Z"
   },
   {
    "duration": 283,
    "start_time": "2023-05-19T17:16:45.559Z"
   },
   {
    "duration": 133,
    "start_time": "2023-05-19T17:16:45.843Z"
   },
   {
    "duration": 132,
    "start_time": "2023-05-19T17:16:45.985Z"
   },
   {
    "duration": 127,
    "start_time": "2023-05-19T17:16:46.118Z"
   },
   {
    "duration": 75,
    "start_time": "2023-05-19T17:16:46.246Z"
   },
   {
    "duration": 30,
    "start_time": "2023-05-19T17:22:51.874Z"
   },
   {
    "duration": 29,
    "start_time": "2023-05-19T17:24:29.185Z"
   },
   {
    "duration": 67,
    "start_time": "2023-05-19T17:29:18.454Z"
   },
   {
    "duration": 18,
    "start_time": "2023-05-19T17:29:30.167Z"
   },
   {
    "duration": 130,
    "start_time": "2023-05-19T17:29:49.265Z"
   },
   {
    "duration": 3010,
    "start_time": "2023-05-20T11:30:24.145Z"
   },
   {
    "duration": 49,
    "start_time": "2023-05-20T11:30:27.157Z"
   },
   {
    "duration": 55,
    "start_time": "2023-05-20T11:30:27.208Z"
   },
   {
    "duration": 22,
    "start_time": "2023-05-20T11:30:27.265Z"
   },
   {
    "duration": 6,
    "start_time": "2023-05-20T11:30:27.291Z"
   },
   {
    "duration": 389,
    "start_time": "2023-05-20T11:30:27.299Z"
   },
   {
    "duration": 156,
    "start_time": "2023-05-20T11:30:27.690Z"
   },
   {
    "duration": 157,
    "start_time": "2023-05-20T11:30:27.849Z"
   },
   {
    "duration": 142,
    "start_time": "2023-05-20T11:30:28.007Z"
   },
   {
    "duration": 253,
    "start_time": "2023-05-20T11:30:28.150Z"
   },
   {
    "duration": 160,
    "start_time": "2023-05-20T11:30:28.405Z"
   },
   {
    "duration": 166,
    "start_time": "2023-05-20T11:30:28.567Z"
   },
   {
    "duration": 160,
    "start_time": "2023-05-20T11:30:28.735Z"
   },
   {
    "duration": 132,
    "start_time": "2023-05-20T11:30:28.898Z"
   },
   {
    "duration": 156,
    "start_time": "2023-05-20T11:30:29.031Z"
   },
   {
    "duration": 142,
    "start_time": "2023-05-20T11:30:29.188Z"
   },
   {
    "duration": 150,
    "start_time": "2023-05-20T11:30:29.332Z"
   },
   {
    "duration": 155,
    "start_time": "2023-05-20T11:30:29.484Z"
   },
   {
    "duration": 166,
    "start_time": "2023-05-20T11:30:29.640Z"
   },
   {
    "duration": 147,
    "start_time": "2023-05-20T11:30:29.808Z"
   },
   {
    "duration": 6,
    "start_time": "2023-05-20T11:30:29.957Z"
   },
   {
    "duration": 203,
    "start_time": "2023-05-20T11:30:29.964Z"
   },
   {
    "duration": 298,
    "start_time": "2023-05-20T11:30:30.169Z"
   },
   {
    "duration": 203,
    "start_time": "2023-05-20T11:30:30.469Z"
   },
   {
    "duration": 152,
    "start_time": "2023-05-20T11:30:30.678Z"
   },
   {
    "duration": 332,
    "start_time": "2023-05-20T11:30:30.832Z"
   },
   {
    "duration": 161,
    "start_time": "2023-05-20T11:30:31.166Z"
   },
   {
    "duration": 167,
    "start_time": "2023-05-20T11:30:31.328Z"
   },
   {
    "duration": 168,
    "start_time": "2023-05-20T11:30:31.497Z"
   },
   {
    "duration": 48,
    "start_time": "2023-05-20T11:30:31.667Z"
   },
   {
    "duration": 166,
    "start_time": "2023-05-20T11:30:31.717Z"
   },
   {
    "duration": 105,
    "start_time": "2023-05-20T11:30:31.884Z"
   },
   {
    "duration": 2718,
    "start_time": "2023-05-20T12:08:06.193Z"
   },
   {
    "duration": 48,
    "start_time": "2023-05-20T12:08:08.913Z"
   },
   {
    "duration": 53,
    "start_time": "2023-05-20T12:08:08.963Z"
   },
   {
    "duration": 10,
    "start_time": "2023-05-20T12:08:09.018Z"
   },
   {
    "duration": 6,
    "start_time": "2023-05-20T12:08:09.030Z"
   },
   {
    "duration": 362,
    "start_time": "2023-05-20T12:08:09.038Z"
   },
   {
    "duration": 167,
    "start_time": "2023-05-20T12:08:09.402Z"
   },
   {
    "duration": 160,
    "start_time": "2023-05-20T12:08:09.571Z"
   },
   {
    "duration": 144,
    "start_time": "2023-05-20T12:08:09.733Z"
   },
   {
    "duration": 261,
    "start_time": "2023-05-20T12:08:09.879Z"
   },
   {
    "duration": 164,
    "start_time": "2023-05-20T12:08:10.142Z"
   },
   {
    "duration": 170,
    "start_time": "2023-05-20T12:08:10.308Z"
   },
   {
    "duration": 172,
    "start_time": "2023-05-20T12:08:10.480Z"
   },
   {
    "duration": 136,
    "start_time": "2023-05-20T12:08:10.656Z"
   },
   {
    "duration": 166,
    "start_time": "2023-05-20T12:08:10.794Z"
   },
   {
    "duration": 158,
    "start_time": "2023-05-20T12:08:10.962Z"
   },
   {
    "duration": 157,
    "start_time": "2023-05-20T12:08:11.122Z"
   },
   {
    "duration": 150,
    "start_time": "2023-05-20T12:08:11.282Z"
   },
   {
    "duration": 171,
    "start_time": "2023-05-20T12:08:11.435Z"
   },
   {
    "duration": 150,
    "start_time": "2023-05-20T12:08:11.608Z"
   },
   {
    "duration": 19,
    "start_time": "2023-05-20T12:08:11.760Z"
   },
   {
    "duration": 190,
    "start_time": "2023-05-20T12:08:11.781Z"
   },
   {
    "duration": 291,
    "start_time": "2023-05-20T12:08:11.977Z"
   },
   {
    "duration": 212,
    "start_time": "2023-05-20T12:08:12.269Z"
   },
   {
    "duration": 149,
    "start_time": "2023-05-20T12:08:12.482Z"
   },
   {
    "duration": 324,
    "start_time": "2023-05-20T12:08:12.633Z"
   },
   {
    "duration": 164,
    "start_time": "2023-05-20T12:08:12.959Z"
   },
   {
    "duration": 164,
    "start_time": "2023-05-20T12:08:13.125Z"
   },
   {
    "duration": 148,
    "start_time": "2023-05-20T12:08:13.291Z"
   },
   {
    "duration": 49,
    "start_time": "2023-05-20T12:08:13.442Z"
   },
   {
    "duration": 174,
    "start_time": "2023-05-20T12:08:13.492Z"
   },
   {
    "duration": 104,
    "start_time": "2023-05-20T14:00:27.067Z"
   },
   {
    "duration": 44,
    "start_time": "2023-05-20T14:01:05.071Z"
   },
   {
    "duration": 9,
    "start_time": "2023-05-20T14:02:09.610Z"
   },
   {
    "duration": 10,
    "start_time": "2023-05-20T14:02:25.024Z"
   },
   {
    "duration": 18,
    "start_time": "2023-05-20T14:02:52.899Z"
   },
   {
    "duration": 3174,
    "start_time": "2023-05-22T14:37:12.967Z"
   },
   {
    "duration": 51,
    "start_time": "2023-05-22T14:37:16.143Z"
   },
   {
    "duration": 57,
    "start_time": "2023-05-22T14:37:16.195Z"
   },
   {
    "duration": 10,
    "start_time": "2023-05-22T14:37:16.254Z"
   },
   {
    "duration": 25,
    "start_time": "2023-05-22T14:37:16.266Z"
   },
   {
    "duration": 378,
    "start_time": "2023-05-22T14:37:16.293Z"
   },
   {
    "duration": 176,
    "start_time": "2023-05-22T14:37:16.673Z"
   },
   {
    "duration": 174,
    "start_time": "2023-05-22T14:37:16.850Z"
   },
   {
    "duration": 172,
    "start_time": "2023-05-22T14:37:17.025Z"
   },
   {
    "duration": 276,
    "start_time": "2023-05-22T14:37:17.200Z"
   },
   {
    "duration": 172,
    "start_time": "2023-05-22T14:37:17.477Z"
   },
   {
    "duration": 180,
    "start_time": "2023-05-22T14:37:17.651Z"
   },
   {
    "duration": 187,
    "start_time": "2023-05-22T14:37:17.833Z"
   },
   {
    "duration": 141,
    "start_time": "2023-05-22T14:37:18.022Z"
   },
   {
    "duration": 180,
    "start_time": "2023-05-22T14:37:18.165Z"
   },
   {
    "duration": 166,
    "start_time": "2023-05-22T14:37:18.347Z"
   },
   {
    "duration": 161,
    "start_time": "2023-05-22T14:37:18.515Z"
   },
   {
    "duration": 157,
    "start_time": "2023-05-22T14:37:18.677Z"
   },
   {
    "duration": 181,
    "start_time": "2023-05-22T14:37:18.836Z"
   },
   {
    "duration": 157,
    "start_time": "2023-05-22T14:37:19.019Z"
   },
   {
    "duration": 13,
    "start_time": "2023-05-22T14:37:19.178Z"
   },
   {
    "duration": 221,
    "start_time": "2023-05-22T14:37:19.193Z"
   },
   {
    "duration": 317,
    "start_time": "2023-05-22T14:37:19.416Z"
   },
   {
    "duration": 221,
    "start_time": "2023-05-22T14:37:19.735Z"
   },
   {
    "duration": 176,
    "start_time": "2023-05-22T14:37:19.958Z"
   },
   {
    "duration": 393,
    "start_time": "2023-05-22T14:37:20.137Z"
   },
   {
    "duration": 182,
    "start_time": "2023-05-22T14:37:20.533Z"
   },
   {
    "duration": 188,
    "start_time": "2023-05-22T14:37:20.718Z"
   },
   {
    "duration": 176,
    "start_time": "2023-05-22T14:37:20.908Z"
   },
   {
    "duration": 44,
    "start_time": "2023-05-22T14:37:21.087Z"
   },
   {
    "duration": 222,
    "start_time": "2023-05-22T14:37:21.133Z"
   },
   {
    "duration": 155,
    "start_time": "2023-05-22T14:37:44.650Z"
   },
   {
    "duration": 129,
    "start_time": "2023-05-22T14:37:53.534Z"
   },
   {
    "duration": 3307,
    "start_time": "2023-05-23T17:48:30.888Z"
   },
   {
    "duration": 74,
    "start_time": "2023-05-23T17:48:34.199Z"
   },
   {
    "duration": 76,
    "start_time": "2023-05-23T17:48:34.276Z"
   },
   {
    "duration": 11,
    "start_time": "2023-05-23T17:48:34.358Z"
   },
   {
    "duration": 15,
    "start_time": "2023-05-23T17:48:34.375Z"
   },
   {
    "duration": 447,
    "start_time": "2023-05-23T17:48:34.392Z"
   },
   {
    "duration": 238,
    "start_time": "2023-05-23T17:48:34.842Z"
   },
   {
    "duration": 169,
    "start_time": "2023-05-23T17:48:35.082Z"
   },
   {
    "duration": 246,
    "start_time": "2023-05-23T17:48:35.258Z"
   },
   {
    "duration": 322,
    "start_time": "2023-05-23T17:48:35.507Z"
   },
   {
    "duration": 197,
    "start_time": "2023-05-23T17:48:35.831Z"
   },
   {
    "duration": 194,
    "start_time": "2023-05-23T17:48:36.030Z"
   },
   {
    "duration": 213,
    "start_time": "2023-05-23T17:48:36.226Z"
   },
   {
    "duration": 194,
    "start_time": "2023-05-23T17:48:36.442Z"
   },
   {
    "duration": 213,
    "start_time": "2023-05-23T17:48:36.639Z"
   },
   {
    "duration": 225,
    "start_time": "2023-05-23T17:48:36.854Z"
   },
   {
    "duration": 159,
    "start_time": "2023-05-23T17:48:37.081Z"
   },
   {
    "duration": 189,
    "start_time": "2023-05-23T17:48:37.243Z"
   },
   {
    "duration": 201,
    "start_time": "2023-05-23T17:48:37.434Z"
   },
   {
    "duration": 172,
    "start_time": "2023-05-23T17:48:37.637Z"
   },
   {
    "duration": 8,
    "start_time": "2023-05-23T17:48:37.811Z"
   },
   {
    "duration": 377,
    "start_time": "2023-05-23T17:48:37.821Z"
   },
   {
    "duration": 317,
    "start_time": "2023-05-23T17:48:38.199Z"
   },
   {
    "duration": 220,
    "start_time": "2023-05-23T17:48:38.518Z"
   },
   {
    "duration": 177,
    "start_time": "2023-05-23T17:48:38.740Z"
   },
   {
    "duration": 386,
    "start_time": "2023-05-23T17:48:38.919Z"
   },
   {
    "duration": 179,
    "start_time": "2023-05-23T17:48:39.307Z"
   },
   {
    "duration": 189,
    "start_time": "2023-05-23T17:48:39.488Z"
   },
   {
    "duration": 166,
    "start_time": "2023-05-23T17:48:39.680Z"
   },
   {
    "duration": 52,
    "start_time": "2023-05-23T17:48:39.848Z"
   },
   {
    "duration": 202,
    "start_time": "2023-05-23T17:48:39.901Z"
   },
   {
    "duration": 2233,
    "start_time": "2023-05-23T17:59:39.576Z"
   },
   {
    "duration": 55,
    "start_time": "2023-05-23T17:59:41.811Z"
   },
   {
    "duration": 58,
    "start_time": "2023-05-23T17:59:41.868Z"
   },
   {
    "duration": 9,
    "start_time": "2023-05-23T17:59:41.928Z"
   },
   {
    "duration": 5,
    "start_time": "2023-05-23T17:59:41.957Z"
   },
   {
    "duration": 390,
    "start_time": "2023-05-23T17:59:41.964Z"
   },
   {
    "duration": 154,
    "start_time": "2023-05-23T17:59:42.355Z"
   },
   {
    "duration": 163,
    "start_time": "2023-05-23T17:59:42.511Z"
   },
   {
    "duration": 262,
    "start_time": "2023-05-23T17:59:42.675Z"
   },
   {
    "duration": 190,
    "start_time": "2023-05-23T17:59:42.939Z"
   },
   {
    "duration": 174,
    "start_time": "2023-05-23T17:59:43.130Z"
   },
   {
    "duration": 169,
    "start_time": "2023-05-23T17:59:43.305Z"
   },
   {
    "duration": 161,
    "start_time": "2023-05-23T17:59:43.476Z"
   },
   {
    "duration": 139,
    "start_time": "2023-05-23T17:59:43.639Z"
   },
   {
    "duration": 201,
    "start_time": "2023-05-23T17:59:43.780Z"
   },
   {
    "duration": 193,
    "start_time": "2023-05-23T17:59:43.986Z"
   },
   {
    "duration": 190,
    "start_time": "2023-05-23T17:59:44.181Z"
   },
   {
    "duration": 131,
    "start_time": "2023-05-23T17:59:44.373Z"
   },
   {
    "duration": 169,
    "start_time": "2023-05-23T17:59:44.506Z"
   },
   {
    "duration": 164,
    "start_time": "2023-05-23T17:59:44.676Z"
   },
   {
    "duration": 6,
    "start_time": "2023-05-23T17:59:44.842Z"
   },
   {
    "duration": 215,
    "start_time": "2023-05-23T17:59:44.860Z"
   },
   {
    "duration": 202,
    "start_time": "2023-05-23T17:59:45.076Z"
   },
   {
    "duration": 202,
    "start_time": "2023-05-23T17:59:45.279Z"
   },
   {
    "duration": 162,
    "start_time": "2023-05-23T17:59:45.482Z"
   },
   {
    "duration": 298,
    "start_time": "2023-05-23T17:59:45.646Z"
   },
   {
    "duration": 178,
    "start_time": "2023-05-23T17:59:45.946Z"
   },
   {
    "duration": 175,
    "start_time": "2023-05-23T17:59:46.127Z"
   },
   {
    "duration": 172,
    "start_time": "2023-05-23T17:59:46.304Z"
   },
   {
    "duration": 37,
    "start_time": "2023-05-23T17:59:46.477Z"
   },
   {
    "duration": 341,
    "start_time": "2023-05-23T17:59:46.515Z"
   },
   {
    "duration": 2163,
    "start_time": "2023-05-23T18:00:41.000Z"
   },
   {
    "duration": 63,
    "start_time": "2023-05-23T18:01:14.469Z"
   },
   {
    "duration": 62,
    "start_time": "2023-05-23T18:05:23.239Z"
   },
   {
    "duration": 377,
    "start_time": "2023-05-23T18:07:13.343Z"
   },
   {
    "duration": 354,
    "start_time": "2023-05-23T18:10:44.515Z"
   },
   {
    "duration": 237,
    "start_time": "2023-05-23T18:10:53.950Z"
   },
   {
    "duration": 194,
    "start_time": "2023-05-23T18:11:03.149Z"
   },
   {
    "duration": 205,
    "start_time": "2023-05-23T18:11:15.479Z"
   },
   {
    "duration": 180,
    "start_time": "2023-05-23T18:12:21.892Z"
   },
   {
    "duration": 176,
    "start_time": "2023-05-23T18:12:28.450Z"
   },
   {
    "duration": 205,
    "start_time": "2023-05-23T18:13:31.777Z"
   },
   {
    "duration": 202,
    "start_time": "2023-05-23T18:15:21.635Z"
   },
   {
    "duration": 226,
    "start_time": "2023-05-23T18:17:21.202Z"
   },
   {
    "duration": 172,
    "start_time": "2023-05-23T18:17:32.738Z"
   },
   {
    "duration": 180,
    "start_time": "2023-05-23T18:17:46.090Z"
   },
   {
    "duration": 186,
    "start_time": "2023-05-23T18:17:59.354Z"
   },
   {
    "duration": 316,
    "start_time": "2023-05-23T18:18:53.934Z"
   },
   {
    "duration": 2376,
    "start_time": "2023-05-23T18:20:47.691Z"
   },
   {
    "duration": 66,
    "start_time": "2023-05-23T18:20:50.073Z"
   },
   {
    "duration": 80,
    "start_time": "2023-05-23T18:20:50.141Z"
   },
   {
    "duration": 11,
    "start_time": "2023-05-23T18:20:50.224Z"
   },
   {
    "duration": 29,
    "start_time": "2023-05-23T18:20:50.237Z"
   },
   {
    "duration": 460,
    "start_time": "2023-05-23T18:20:50.268Z"
   },
   {
    "duration": 255,
    "start_time": "2023-05-23T18:20:50.730Z"
   },
   {
    "duration": 226,
    "start_time": "2023-05-23T18:20:50.987Z"
   },
   {
    "duration": 226,
    "start_time": "2023-05-23T18:20:51.215Z"
   },
   {
    "duration": 277,
    "start_time": "2023-05-23T18:20:51.444Z"
   },
   {
    "duration": 256,
    "start_time": "2023-05-23T18:20:51.724Z"
   },
   {
    "duration": 227,
    "start_time": "2023-05-23T18:20:51.982Z"
   },
   {
    "duration": 194,
    "start_time": "2023-05-23T18:20:52.211Z"
   },
   {
    "duration": 151,
    "start_time": "2023-05-23T18:20:52.407Z"
   },
   {
    "duration": 185,
    "start_time": "2023-05-23T18:20:52.565Z"
   },
   {
    "duration": 171,
    "start_time": "2023-05-23T18:20:52.751Z"
   },
   {
    "duration": 180,
    "start_time": "2023-05-23T18:20:52.924Z"
   },
   {
    "duration": 175,
    "start_time": "2023-05-23T18:20:53.106Z"
   },
   {
    "duration": 207,
    "start_time": "2023-05-23T18:20:53.284Z"
   },
   {
    "duration": 194,
    "start_time": "2023-05-23T18:20:53.493Z"
   },
   {
    "duration": 6,
    "start_time": "2023-05-23T18:20:53.689Z"
   },
   {
    "duration": 286,
    "start_time": "2023-05-23T18:20:53.698Z"
   },
   {
    "duration": 303,
    "start_time": "2023-05-23T18:20:53.985Z"
   },
   {
    "duration": 301,
    "start_time": "2023-05-23T18:20:54.291Z"
   },
   {
    "duration": 194,
    "start_time": "2023-05-23T18:20:54.594Z"
   },
   {
    "duration": 287,
    "start_time": "2023-05-23T18:20:54.790Z"
   },
   {
    "duration": 208,
    "start_time": "2023-05-23T18:20:55.080Z"
   },
   {
    "duration": 201,
    "start_time": "2023-05-23T18:20:55.292Z"
   },
   {
    "duration": 185,
    "start_time": "2023-05-23T18:20:55.495Z"
   },
   {
    "duration": 37,
    "start_time": "2023-05-23T18:20:55.682Z"
   },
   {
    "duration": 445,
    "start_time": "2023-05-23T18:20:55.721Z"
   },
   {
    "duration": 175,
    "start_time": "2023-05-23T18:21:22.942Z"
   },
   {
    "duration": 224,
    "start_time": "2023-05-23T19:04:08.107Z"
   },
   {
    "duration": 150,
    "start_time": "2023-05-23T19:04:16.596Z"
   },
   {
    "duration": 160,
    "start_time": "2023-05-23T19:04:46.157Z"
   },
   {
    "duration": 203,
    "start_time": "2023-05-23T19:05:24.182Z"
   },
   {
    "duration": 155,
    "start_time": "2023-05-23T19:09:06.121Z"
   },
   {
    "duration": 3108,
    "start_time": "2024-03-08T17:49:54.726Z"
   },
   {
    "duration": 64,
    "start_time": "2024-03-08T17:49:57.836Z"
   },
   {
    "duration": 62,
    "start_time": "2024-03-08T17:49:57.901Z"
   },
   {
    "duration": 9,
    "start_time": "2024-03-08T17:49:57.964Z"
   },
   {
    "duration": 12,
    "start_time": "2024-03-08T17:49:57.974Z"
   },
   {
    "duration": 403,
    "start_time": "2024-03-08T17:49:57.987Z"
   },
   {
    "duration": 210,
    "start_time": "2024-03-08T17:49:58.392Z"
   },
   {
    "duration": 185,
    "start_time": "2024-03-08T17:49:58.604Z"
   },
   {
    "duration": 176,
    "start_time": "2024-03-08T17:49:58.791Z"
   },
   {
    "duration": 266,
    "start_time": "2024-03-08T17:49:58.971Z"
   },
   {
    "duration": 184,
    "start_time": "2024-03-08T17:49:59.239Z"
   },
   {
    "duration": 218,
    "start_time": "2024-03-08T17:49:59.424Z"
   },
   {
    "duration": 179,
    "start_time": "2024-03-08T17:49:59.644Z"
   },
   {
    "duration": 145,
    "start_time": "2024-03-08T17:49:59.824Z"
   },
   {
    "duration": 172,
    "start_time": "2024-03-08T17:49:59.971Z"
   },
   {
    "duration": 174,
    "start_time": "2024-03-08T17:50:00.144Z"
   },
   {
    "duration": 186,
    "start_time": "2024-03-08T17:50:00.320Z"
   },
   {
    "duration": 180,
    "start_time": "2024-03-08T17:50:00.508Z"
   },
   {
    "duration": 178,
    "start_time": "2024-03-08T17:50:00.690Z"
   },
   {
    "duration": 177,
    "start_time": "2024-03-08T17:50:00.870Z"
   },
   {
    "duration": 9,
    "start_time": "2024-03-08T17:50:01.049Z"
   },
   {
    "duration": 324,
    "start_time": "2024-03-08T17:50:01.059Z"
   },
   {
    "duration": 250,
    "start_time": "2024-03-08T17:50:01.385Z"
   },
   {
    "duration": 216,
    "start_time": "2024-03-08T17:50:01.637Z"
   },
   {
    "duration": 163,
    "start_time": "2024-03-08T17:50:01.855Z"
   },
   {
    "duration": 371,
    "start_time": "2024-03-08T17:50:02.019Z"
   },
   {
    "duration": 180,
    "start_time": "2024-03-08T17:50:02.392Z"
   },
   {
    "duration": 197,
    "start_time": "2024-03-08T17:50:02.576Z"
   },
   {
    "duration": 165,
    "start_time": "2024-03-08T17:50:02.775Z"
   },
   {
    "duration": 37,
    "start_time": "2024-03-08T17:50:02.942Z"
   },
   {
    "duration": 187,
    "start_time": "2024-03-08T17:50:02.980Z"
   }
  ],
  "kernelspec": {
   "display_name": "Python 3 (ipykernel)",
   "language": "python",
   "name": "python3"
  },
  "language_info": {
   "codemirror_mode": {
    "name": "ipython",
    "version": 3
   },
   "file_extension": ".py",
   "mimetype": "text/x-python",
   "name": "python",
   "nbconvert_exporter": "python",
   "pygments_lexer": "ipython3",
   "version": "3.9.5"
  },
  "toc": {
   "base_numbering": 1,
   "nav_menu": {},
   "number_sections": true,
   "sideBar": true,
   "skip_h1_title": true,
   "title_cell": "Table of Contents",
   "title_sidebar": "Contents",
   "toc_cell": false,
   "toc_position": {},
   "toc_section_display": true,
   "toc_window_display": false
  }
 },
 "nbformat": 4,
 "nbformat_minor": 2
}
